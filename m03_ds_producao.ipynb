{
 "cells": [
  {
   "cell_type": "markdown",
   "id": "e2a28240",
   "metadata": {},
   "source": [
    "# 0.0 Imports"
   ]
  },
  {
   "cell_type": "code",
   "execution_count": 1,
   "id": "2235839e",
   "metadata": {},
   "outputs": [],
   "source": [
    "import pandas as pd\n",
    "import math\n",
    "import inflection\n",
    "import numpy as np\n",
    "import seaborn as sns\n",
    "import datetime as dtt\n",
    "import xgboost as xgb\n",
    "import random\n",
    "import warnings\n",
    "import pickle\n",
    "import json\n",
    "import requests\n",
    "\n",
    "from matplotlib import pyplot as plt\n",
    "from IPython.core.display import HTML\n",
    "from scipy import stats as ss\n",
    "from sklearn.preprocessing import RobustScaler, MinMaxScaler, LabelEncoder\n",
    "\n",
    "from sklearn.ensemble import RandomForestRegressor\n",
    "from sklearn.linear_model import LinearRegression, Lasso\n",
    "from sklearn.metrics import mean_absolute_error, mean_squared_error\n",
    "\n",
    "warnings.filterwarnings('ignore')"
   ]
  },
  {
   "cell_type": "markdown",
   "id": "8da3e476",
   "metadata": {},
   "source": [
    "## 0.1. Helper functions"
   ]
  },
  {
   "cell_type": "code",
   "execution_count": 2,
   "id": "f8783a2b",
   "metadata": {},
   "outputs": [],
   "source": [
    "def cramer_v(x, y):\n",
    "    cm = pd.crosstab(x, y).values\n",
    "    n = cm.sum()\n",
    "    r, k = cm.shape\n",
    "    chi2 = ss.chi2_contingency(cm)[0]\n",
    "    chi2corr = max(0, chi2 - (k-1)*(r-1)/(n-1))\n",
    "    kcorr = k - (k-1)**2/(n-1)\n",
    "    rcorr = r - (r-1)**2/(n-1)\n",
    "    \n",
    "    return np.sqrt((chi2corr/n)/(min(kcorr-1, rcorr-1)))\n",
    "\n",
    "def mean_absolute_percentage_error (y, yhat):\n",
    "    return np.mean(np.abs((y - yhat)/y))\n",
    "    \n",
    "def ml_error(model_name, y, yhat):\n",
    "    mae = mean_absolute_error(y, yhat)\n",
    "    mape = mean_absolute_percentage_error(y , yhat)\n",
    "    rmse = np.sqrt(mean_squared_error(y, yhat))\n",
    "    \n",
    "    return pd.DataFrame({'model name': model_name,\n",
    "                        'MAE': mae,\n",
    "                        'MAPE': mape,\n",
    "                        'RMSE': rmse}, index=[0])\n",
    "\n",
    "def cross_validation(x_training, kfold, model_name, model, verbose=False):\n",
    "    mae_list = []\n",
    "    mape_list = []\n",
    "    rmse_list = []\n",
    "    for k in reversed(range(1, kfold+1)):\n",
    "        if verbose:\n",
    "            print('\\nKFold Number{}'.format(k))\n",
    "        # start and end date for validation\n",
    "        validation_start_date = x_training['date'].max() - dtt.timedelta(days=k*6*7)\n",
    "        validation_end_date = x_training['date'].max() - dtt.timedelta(days=(k-1)*6*7)\n",
    "\n",
    "        # filtering dataset\n",
    "        training = x_training[x_training['date'] < validation_start_date]\n",
    "        validation = x_training[(x_training['date'] >= validation_start_date) & \n",
    "                                (x_training['date'] <= validation_end_date)]\n",
    "\n",
    "        # training and validation dataset\n",
    "        # training\n",
    "        xtraining = training.drop(['date', 'sales'], axis=1)\n",
    "        ytraining = training['sales']\n",
    "\n",
    "        # validation\n",
    "        xvalidation = validation.drop(['date', 'sales'], axis=1)\n",
    "        yvalidation = validation['sales']\n",
    "\n",
    "        # model\n",
    "        m = model.fit(xtraining, ytraining)\n",
    "\n",
    "        # prediction\n",
    "        yhat = m.predict(xvalidation)\n",
    "\n",
    "        # performance\n",
    "        m_result = ml_error(model_name, np.expm1(yvalidation), np.expm1(yhat))\n",
    "\n",
    "        # store performance of each kfold iteration\n",
    "        mae_list.append(m_result['MAE'])\n",
    "        mape_list.append(m_result['MAPE'])\n",
    "        rmse_list.append(m_result['RMSE'])\n",
    "    \n",
    "    return pd.DataFrame({'Model Name': model_name, \n",
    "                        'MAE CV': np.round(np.mean(mae_list), 2).astype(str) + ' +/- ' + np.round(np.std(mae_list), 2).astype(str) , \n",
    "                        'MAPE CV': np.round(np.mean(mape_list), 2).astype(str) + ' +/- ' + np.round(np.std(mape_list), 2).astype(str), \n",
    "                        'RMSE CV': np.round(np.mean(rmse_list), 2).astype(str) + ' +/- ' + np.round(np.std(rmse_list), 2).astype(str)}, \n",
    "                         index=[0])\n",
    "\n",
    "\n"
   ]
  },
  {
   "cell_type": "markdown",
   "id": "01cdf8f2",
   "metadata": {},
   "source": [
    "## 0.2 Loading data"
   ]
  },
  {
   "cell_type": "code",
   "execution_count": 3,
   "id": "e06885bf",
   "metadata": {},
   "outputs": [],
   "source": [
    "df_sales_raw = pd.read_csv(r'C:\\Users\\jota_\\Repositorios\\DS_producao\\Datasets_ds\\train.csv', low_memory=False)\n",
    "df_store_raw = pd.read_csv(r'C:\\Users\\jota_\\Repositorios\\DS_producao\\Datasets_ds\\store.csv', low_memory=False)\n",
    "\n",
    "#merge \n",
    "df_raw = pd.merge(df_sales_raw, df_store_raw, how = 'left', on='Store')"
   ]
  },
  {
   "cell_type": "markdown",
   "id": "185680b3",
   "metadata": {},
   "source": [
    "## 1.0 Descricao dos dados"
   ]
  },
  {
   "cell_type": "code",
   "execution_count": 14,
   "id": "5db5e9ec",
   "metadata": {},
   "outputs": [],
   "source": [
    "df1 = df_raw.copy()"
   ]
  },
  {
   "cell_type": "code",
   "execution_count": 15,
   "id": "5f064f14",
   "metadata": {},
   "outputs": [
    {
     "data": {
      "text/html": [
       "<div>\n",
       "<style scoped>\n",
       "    .dataframe tbody tr th:only-of-type {\n",
       "        vertical-align: middle;\n",
       "    }\n",
       "\n",
       "    .dataframe tbody tr th {\n",
       "        vertical-align: top;\n",
       "    }\n",
       "\n",
       "    .dataframe thead th {\n",
       "        text-align: right;\n",
       "    }\n",
       "</style>\n",
       "<table border=\"1\" class=\"dataframe\">\n",
       "  <thead>\n",
       "    <tr style=\"text-align: right;\">\n",
       "      <th></th>\n",
       "      <th>Store</th>\n",
       "      <th>DayOfWeek</th>\n",
       "      <th>Date</th>\n",
       "      <th>Sales</th>\n",
       "      <th>Customers</th>\n",
       "      <th>Open</th>\n",
       "      <th>Promo</th>\n",
       "      <th>StateHoliday</th>\n",
       "      <th>SchoolHoliday</th>\n",
       "      <th>StoreType</th>\n",
       "      <th>Assortment</th>\n",
       "      <th>CompetitionDistance</th>\n",
       "      <th>CompetitionOpenSinceMonth</th>\n",
       "      <th>CompetitionOpenSinceYear</th>\n",
       "      <th>Promo2</th>\n",
       "      <th>Promo2SinceWeek</th>\n",
       "      <th>Promo2SinceYear</th>\n",
       "      <th>PromoInterval</th>\n",
       "    </tr>\n",
       "  </thead>\n",
       "  <tbody>\n",
       "    <tr>\n",
       "      <th>0</th>\n",
       "      <td>1</td>\n",
       "      <td>5</td>\n",
       "      <td>2015-07-31</td>\n",
       "      <td>5263</td>\n",
       "      <td>555</td>\n",
       "      <td>1</td>\n",
       "      <td>1</td>\n",
       "      <td>0</td>\n",
       "      <td>1</td>\n",
       "      <td>c</td>\n",
       "      <td>a</td>\n",
       "      <td>1270.0</td>\n",
       "      <td>9.0</td>\n",
       "      <td>2008.0</td>\n",
       "      <td>0</td>\n",
       "      <td>NaN</td>\n",
       "      <td>NaN</td>\n",
       "      <td>NaN</td>\n",
       "    </tr>\n",
       "    <tr>\n",
       "      <th>1</th>\n",
       "      <td>2</td>\n",
       "      <td>5</td>\n",
       "      <td>2015-07-31</td>\n",
       "      <td>6064</td>\n",
       "      <td>625</td>\n",
       "      <td>1</td>\n",
       "      <td>1</td>\n",
       "      <td>0</td>\n",
       "      <td>1</td>\n",
       "      <td>a</td>\n",
       "      <td>a</td>\n",
       "      <td>570.0</td>\n",
       "      <td>11.0</td>\n",
       "      <td>2007.0</td>\n",
       "      <td>1</td>\n",
       "      <td>13.0</td>\n",
       "      <td>2010.0</td>\n",
       "      <td>Jan,Apr,Jul,Oct</td>\n",
       "    </tr>\n",
       "    <tr>\n",
       "      <th>2</th>\n",
       "      <td>3</td>\n",
       "      <td>5</td>\n",
       "      <td>2015-07-31</td>\n",
       "      <td>8314</td>\n",
       "      <td>821</td>\n",
       "      <td>1</td>\n",
       "      <td>1</td>\n",
       "      <td>0</td>\n",
       "      <td>1</td>\n",
       "      <td>a</td>\n",
       "      <td>a</td>\n",
       "      <td>14130.0</td>\n",
       "      <td>12.0</td>\n",
       "      <td>2006.0</td>\n",
       "      <td>1</td>\n",
       "      <td>14.0</td>\n",
       "      <td>2011.0</td>\n",
       "      <td>Jan,Apr,Jul,Oct</td>\n",
       "    </tr>\n",
       "    <tr>\n",
       "      <th>3</th>\n",
       "      <td>4</td>\n",
       "      <td>5</td>\n",
       "      <td>2015-07-31</td>\n",
       "      <td>13995</td>\n",
       "      <td>1498</td>\n",
       "      <td>1</td>\n",
       "      <td>1</td>\n",
       "      <td>0</td>\n",
       "      <td>1</td>\n",
       "      <td>c</td>\n",
       "      <td>c</td>\n",
       "      <td>620.0</td>\n",
       "      <td>9.0</td>\n",
       "      <td>2009.0</td>\n",
       "      <td>0</td>\n",
       "      <td>NaN</td>\n",
       "      <td>NaN</td>\n",
       "      <td>NaN</td>\n",
       "    </tr>\n",
       "    <tr>\n",
       "      <th>4</th>\n",
       "      <td>5</td>\n",
       "      <td>5</td>\n",
       "      <td>2015-07-31</td>\n",
       "      <td>4822</td>\n",
       "      <td>559</td>\n",
       "      <td>1</td>\n",
       "      <td>1</td>\n",
       "      <td>0</td>\n",
       "      <td>1</td>\n",
       "      <td>a</td>\n",
       "      <td>a</td>\n",
       "      <td>29910.0</td>\n",
       "      <td>4.0</td>\n",
       "      <td>2015.0</td>\n",
       "      <td>0</td>\n",
       "      <td>NaN</td>\n",
       "      <td>NaN</td>\n",
       "      <td>NaN</td>\n",
       "    </tr>\n",
       "  </tbody>\n",
       "</table>\n",
       "</div>"
      ],
      "text/plain": [
       "   Store  DayOfWeek        Date  Sales  Customers  Open  Promo StateHoliday  \\\n",
       "0      1          5  2015-07-31   5263        555     1      1            0   \n",
       "1      2          5  2015-07-31   6064        625     1      1            0   \n",
       "2      3          5  2015-07-31   8314        821     1      1            0   \n",
       "3      4          5  2015-07-31  13995       1498     1      1            0   \n",
       "4      5          5  2015-07-31   4822        559     1      1            0   \n",
       "\n",
       "   SchoolHoliday StoreType Assortment  CompetitionDistance  \\\n",
       "0              1         c          a               1270.0   \n",
       "1              1         a          a                570.0   \n",
       "2              1         a          a              14130.0   \n",
       "3              1         c          c                620.0   \n",
       "4              1         a          a              29910.0   \n",
       "\n",
       "   CompetitionOpenSinceMonth  CompetitionOpenSinceYear  Promo2  \\\n",
       "0                        9.0                    2008.0       0   \n",
       "1                       11.0                    2007.0       1   \n",
       "2                       12.0                    2006.0       1   \n",
       "3                        9.0                    2009.0       0   \n",
       "4                        4.0                    2015.0       0   \n",
       "\n",
       "   Promo2SinceWeek  Promo2SinceYear    PromoInterval  \n",
       "0              NaN              NaN              NaN  \n",
       "1             13.0           2010.0  Jan,Apr,Jul,Oct  \n",
       "2             14.0           2011.0  Jan,Apr,Jul,Oct  \n",
       "3              NaN              NaN              NaN  \n",
       "4              NaN              NaN              NaN  "
      ]
     },
     "execution_count": 15,
     "metadata": {},
     "output_type": "execute_result"
    }
   ],
   "source": [
    "df1.head()\n"
   ]
  },
  {
   "cell_type": "markdown",
   "id": "6d4f228e",
   "metadata": {},
   "source": [
    "# 1.1 Rename columns"
   ]
  },
  {
   "cell_type": "code",
   "execution_count": 16,
   "id": "b539abda",
   "metadata": {},
   "outputs": [],
   "source": [
    "cols_old = ['Store', 'DayOfWeek', 'Date', 'Sales', 'Customers', 'Open', 'Promo', 'StateHoliday', 'SchoolHoliday', \n",
    "            'StoreType', 'Assortment', 'CompetitionDistance', 'CompetitionOpenSinceMonth', 'CompetitionOpenSinceYear', \n",
    "            'Promo2', 'Promo2SinceWeek','Promo2SinceYear', 'PromoInterval']\n",
    "\n",
    "\n",
    "snakecase = lambda x: inflection.underscore(x)\n",
    "\n",
    "cols_new = list(map(snakecase, cols_old))\n",
    "\n",
    "#Rename\n",
    "df1.columns = cols_new"
   ]
  },
  {
   "cell_type": "markdown",
   "id": "96a2ad09",
   "metadata": {},
   "source": [
    "# 1.2 Data Dimensions"
   ]
  },
  {
   "cell_type": "code",
   "execution_count": 17,
   "id": "1bda7c27",
   "metadata": {},
   "outputs": [
    {
     "name": "stdout",
     "output_type": "stream",
     "text": [
      "number of rows 1017209\n",
      "number of cols 18\n"
     ]
    }
   ],
   "source": [
    "print('number of rows {}'.format(df1.shape[0]))\n",
    "print('number of cols {}'.format(df1.shape[1]))"
   ]
  },
  {
   "cell_type": "markdown",
   "id": "d04e0066",
   "metadata": {},
   "source": [
    "# 1.3 Data Types"
   ]
  },
  {
   "cell_type": "code",
   "execution_count": 18,
   "id": "baf7bfae",
   "metadata": {},
   "outputs": [
    {
     "name": "stdout",
     "output_type": "stream",
     "text": [
      "store                                    int64\n",
      "day_of_week                              int64\n",
      "date                            datetime64[ns]\n",
      "sales                                    int64\n",
      "customers                                int64\n",
      "open                                     int64\n",
      "promo                                    int64\n",
      "state_holiday                           object\n",
      "school_holiday                           int64\n",
      "store_type                              object\n",
      "assortment                              object\n",
      "competition_distance                   float64\n",
      "competition_open_since_month           float64\n",
      "competition_open_since_year            float64\n",
      "promo2                                   int64\n",
      "promo2_since_week                      float64\n",
      "promo2_since_year                      float64\n",
      "promo_interval                          object\n",
      "dtype: object\n"
     ]
    }
   ],
   "source": [
    "df1['date'] = pd.to_datetime(df1['date'])\n",
    "print(df1.dtypes)"
   ]
  },
  {
   "cell_type": "markdown",
   "id": "913a3ab1",
   "metadata": {},
   "source": [
    "# 1.4 Check NA"
   ]
  },
  {
   "cell_type": "code",
   "execution_count": 19,
   "id": "7cae2197",
   "metadata": {},
   "outputs": [
    {
     "data": {
      "text/plain": [
       "store                                0\n",
       "day_of_week                          0\n",
       "date                                 0\n",
       "sales                                0\n",
       "customers                            0\n",
       "open                                 0\n",
       "promo                                0\n",
       "state_holiday                        0\n",
       "school_holiday                       0\n",
       "store_type                           0\n",
       "assortment                           0\n",
       "competition_distance              2642\n",
       "competition_open_since_month    323348\n",
       "competition_open_since_year     323348\n",
       "promo2                               0\n",
       "promo2_since_week               508031\n",
       "promo2_since_year               508031\n",
       "promo_interval                  508031\n",
       "dtype: int64"
      ]
     },
     "execution_count": 19,
     "metadata": {},
     "output_type": "execute_result"
    }
   ],
   "source": [
    "df1.isna().sum()"
   ]
  },
  {
   "cell_type": "markdown",
   "id": "adc5fff4",
   "metadata": {},
   "source": [
    "# 1.5 Fillout NA"
   ]
  },
  {
   "cell_type": "code",
   "execution_count": 20,
   "id": "74245eb1",
   "metadata": {},
   "outputs": [],
   "source": [
    "#competition_distance             \n",
    "df1['competition_distance'] = df1['competition_distance'].apply(lambda x: 200000.0 if math.isnan(x) else x)\n",
    "\n",
    "#competition_open_since_month    \n",
    "\n",
    "df1['competition_open_since_month'] = df1.apply(lambda x: x['date'].month if math.isnan(x['competition_open_since_month']) \n",
    "                                                else x['competition_open_since_month'], axis=1) \n",
    "\n",
    "#competition_open_since_year     \n",
    "\n",
    "df1['competition_open_since_year'] = df1.apply(lambda x: x['date'].year if math.isnan(x['competition_open_since_year']) \n",
    "                                                else x['competition_open_since_year'], axis=1) \n",
    "\n",
    "#promo2_since_week    \n",
    "df1['promo2_since_week'] = df1.apply(lambda x: x['date'].week if math.isnan(x['promo2_since_week']) \n",
    "                                                else x['promo2_since_week'], axis=1)\n",
    "\n",
    "#promo2_since_year               \n",
    "df1['promo2_since_year'] = df1.apply(lambda x: x['date'].year if math.isnan(x['promo2_since_year']) \n",
    "                                                else x['promo2_since_year'], axis=1)\n",
    "                 \n",
    "#promo_interval\n",
    "df1['promo_interval'].fillna(0, inplace=True)\n",
    "\n",
    "month_map = {1: 'Jan', 2: 'Fev', 3: 'Mar', 4: 'Apr', 5: 'May', 6: 'Jun', \n",
    "             7: 'Jul', 8: 'Aug', 9: 'Sep', 10: 'Oct', 11: 'Nov', 12: 'Dec'}\n",
    "\n",
    "df1['month_map'] = df1['date'].dt.month.map(month_map)\n",
    "\n",
    "df1['is_promo'] = df1[['promo_interval', 'month_map']].apply(\n",
    "    lambda x: 0 if x['promo_interval'] == 0 else 1 if x['month_map'] in x['promo_interval'].split(',') else 0, axis=1)"
   ]
  },
  {
   "cell_type": "code",
   "execution_count": 21,
   "id": "588ed04b",
   "metadata": {},
   "outputs": [
    {
     "data": {
      "text/html": [
       "<div>\n",
       "<style scoped>\n",
       "    .dataframe tbody tr th:only-of-type {\n",
       "        vertical-align: middle;\n",
       "    }\n",
       "\n",
       "    .dataframe tbody tr th {\n",
       "        vertical-align: top;\n",
       "    }\n",
       "\n",
       "    .dataframe thead th {\n",
       "        text-align: right;\n",
       "    }\n",
       "</style>\n",
       "<table border=\"1\" class=\"dataframe\">\n",
       "  <thead>\n",
       "    <tr style=\"text-align: right;\">\n",
       "      <th></th>\n",
       "      <th>store</th>\n",
       "      <th>day_of_week</th>\n",
       "      <th>date</th>\n",
       "      <th>sales</th>\n",
       "      <th>customers</th>\n",
       "      <th>open</th>\n",
       "      <th>promo</th>\n",
       "      <th>state_holiday</th>\n",
       "      <th>school_holiday</th>\n",
       "      <th>store_type</th>\n",
       "      <th>assortment</th>\n",
       "      <th>competition_distance</th>\n",
       "      <th>competition_open_since_month</th>\n",
       "      <th>competition_open_since_year</th>\n",
       "      <th>promo2</th>\n",
       "      <th>promo2_since_week</th>\n",
       "      <th>promo2_since_year</th>\n",
       "      <th>promo_interval</th>\n",
       "      <th>month_map</th>\n",
       "      <th>is_promo</th>\n",
       "    </tr>\n",
       "  </thead>\n",
       "  <tbody>\n",
       "    <tr>\n",
       "      <th>0</th>\n",
       "      <td>1</td>\n",
       "      <td>5</td>\n",
       "      <td>2015-07-31</td>\n",
       "      <td>5263</td>\n",
       "      <td>555</td>\n",
       "      <td>1</td>\n",
       "      <td>1</td>\n",
       "      <td>0</td>\n",
       "      <td>1</td>\n",
       "      <td>c</td>\n",
       "      <td>a</td>\n",
       "      <td>1270.0</td>\n",
       "      <td>9.0</td>\n",
       "      <td>2008.0</td>\n",
       "      <td>0</td>\n",
       "      <td>31.0</td>\n",
       "      <td>2015.0</td>\n",
       "      <td>0</td>\n",
       "      <td>Jul</td>\n",
       "      <td>0</td>\n",
       "    </tr>\n",
       "    <tr>\n",
       "      <th>1</th>\n",
       "      <td>2</td>\n",
       "      <td>5</td>\n",
       "      <td>2015-07-31</td>\n",
       "      <td>6064</td>\n",
       "      <td>625</td>\n",
       "      <td>1</td>\n",
       "      <td>1</td>\n",
       "      <td>0</td>\n",
       "      <td>1</td>\n",
       "      <td>a</td>\n",
       "      <td>a</td>\n",
       "      <td>570.0</td>\n",
       "      <td>11.0</td>\n",
       "      <td>2007.0</td>\n",
       "      <td>1</td>\n",
       "      <td>13.0</td>\n",
       "      <td>2010.0</td>\n",
       "      <td>Jan,Apr,Jul,Oct</td>\n",
       "      <td>Jul</td>\n",
       "      <td>1</td>\n",
       "    </tr>\n",
       "    <tr>\n",
       "      <th>2</th>\n",
       "      <td>3</td>\n",
       "      <td>5</td>\n",
       "      <td>2015-07-31</td>\n",
       "      <td>8314</td>\n",
       "      <td>821</td>\n",
       "      <td>1</td>\n",
       "      <td>1</td>\n",
       "      <td>0</td>\n",
       "      <td>1</td>\n",
       "      <td>a</td>\n",
       "      <td>a</td>\n",
       "      <td>14130.0</td>\n",
       "      <td>12.0</td>\n",
       "      <td>2006.0</td>\n",
       "      <td>1</td>\n",
       "      <td>14.0</td>\n",
       "      <td>2011.0</td>\n",
       "      <td>Jan,Apr,Jul,Oct</td>\n",
       "      <td>Jul</td>\n",
       "      <td>1</td>\n",
       "    </tr>\n",
       "    <tr>\n",
       "      <th>3</th>\n",
       "      <td>4</td>\n",
       "      <td>5</td>\n",
       "      <td>2015-07-31</td>\n",
       "      <td>13995</td>\n",
       "      <td>1498</td>\n",
       "      <td>1</td>\n",
       "      <td>1</td>\n",
       "      <td>0</td>\n",
       "      <td>1</td>\n",
       "      <td>c</td>\n",
       "      <td>c</td>\n",
       "      <td>620.0</td>\n",
       "      <td>9.0</td>\n",
       "      <td>2009.0</td>\n",
       "      <td>0</td>\n",
       "      <td>31.0</td>\n",
       "      <td>2015.0</td>\n",
       "      <td>0</td>\n",
       "      <td>Jul</td>\n",
       "      <td>0</td>\n",
       "    </tr>\n",
       "    <tr>\n",
       "      <th>4</th>\n",
       "      <td>5</td>\n",
       "      <td>5</td>\n",
       "      <td>2015-07-31</td>\n",
       "      <td>4822</td>\n",
       "      <td>559</td>\n",
       "      <td>1</td>\n",
       "      <td>1</td>\n",
       "      <td>0</td>\n",
       "      <td>1</td>\n",
       "      <td>a</td>\n",
       "      <td>a</td>\n",
       "      <td>29910.0</td>\n",
       "      <td>4.0</td>\n",
       "      <td>2015.0</td>\n",
       "      <td>0</td>\n",
       "      <td>31.0</td>\n",
       "      <td>2015.0</td>\n",
       "      <td>0</td>\n",
       "      <td>Jul</td>\n",
       "      <td>0</td>\n",
       "    </tr>\n",
       "  </tbody>\n",
       "</table>\n",
       "</div>"
      ],
      "text/plain": [
       "   store  day_of_week       date  sales  customers  open  promo state_holiday  \\\n",
       "0      1            5 2015-07-31   5263        555     1      1             0   \n",
       "1      2            5 2015-07-31   6064        625     1      1             0   \n",
       "2      3            5 2015-07-31   8314        821     1      1             0   \n",
       "3      4            5 2015-07-31  13995       1498     1      1             0   \n",
       "4      5            5 2015-07-31   4822        559     1      1             0   \n",
       "\n",
       "   school_holiday store_type assortment  competition_distance  \\\n",
       "0               1          c          a                1270.0   \n",
       "1               1          a          a                 570.0   \n",
       "2               1          a          a               14130.0   \n",
       "3               1          c          c                 620.0   \n",
       "4               1          a          a               29910.0   \n",
       "\n",
       "   competition_open_since_month  competition_open_since_year  promo2  \\\n",
       "0                           9.0                       2008.0       0   \n",
       "1                          11.0                       2007.0       1   \n",
       "2                          12.0                       2006.0       1   \n",
       "3                           9.0                       2009.0       0   \n",
       "4                           4.0                       2015.0       0   \n",
       "\n",
       "   promo2_since_week  promo2_since_year   promo_interval month_map  is_promo  \n",
       "0               31.0             2015.0                0       Jul         0  \n",
       "1               13.0             2010.0  Jan,Apr,Jul,Oct       Jul         1  \n",
       "2               14.0             2011.0  Jan,Apr,Jul,Oct       Jul         1  \n",
       "3               31.0             2015.0                0       Jul         0  \n",
       "4               31.0             2015.0                0       Jul         0  "
      ]
     },
     "execution_count": 21,
     "metadata": {},
     "output_type": "execute_result"
    }
   ],
   "source": [
    "df1.head()"
   ]
  },
  {
   "cell_type": "code",
   "execution_count": 12,
   "id": "b9350100",
   "metadata": {},
   "outputs": [
    {
     "data": {
      "text/plain": [
       "store                           0\n",
       "day_of_week                     0\n",
       "date                            0\n",
       "sales                           0\n",
       "customers                       0\n",
       "open                            0\n",
       "promo                           0\n",
       "state_holiday                   0\n",
       "school_holiday                  0\n",
       "store_type                      0\n",
       "assortment                      0\n",
       "competition_distance            0\n",
       "competition_open_since_month    0\n",
       "competition_open_since_year     0\n",
       "promo2                          0\n",
       "promo2_since_week               0\n",
       "promo2_since_year               0\n",
       "promo_interval                  0\n",
       "month_map                       0\n",
       "is_promo                        0\n",
       "dtype: int64"
      ]
     },
     "execution_count": 12,
     "metadata": {},
     "output_type": "execute_result"
    }
   ],
   "source": [
    "df1.isna().sum()"
   ]
  },
  {
   "cell_type": "markdown",
   "id": "e7d8454a",
   "metadata": {},
   "source": [
    "# 1.6 Change dtypes"
   ]
  },
  {
   "cell_type": "code",
   "execution_count": 13,
   "id": "cd7a388e",
   "metadata": {},
   "outputs": [
    {
     "data": {
      "text/plain": [
       "store                                    int64\n",
       "day_of_week                              int64\n",
       "date                            datetime64[ns]\n",
       "sales                                    int64\n",
       "customers                                int64\n",
       "open                                     int64\n",
       "promo                                    int64\n",
       "state_holiday                           object\n",
       "school_holiday                           int64\n",
       "store_type                              object\n",
       "assortment                              object\n",
       "competition_distance                   float64\n",
       "competition_open_since_month           float64\n",
       "competition_open_since_year            float64\n",
       "promo2                                   int64\n",
       "promo2_since_week                      float64\n",
       "promo2_since_year                      float64\n",
       "promo_interval                          object\n",
       "month_map                               object\n",
       "is_promo                                 int64\n",
       "dtype: object"
      ]
     },
     "execution_count": 13,
     "metadata": {},
     "output_type": "execute_result"
    }
   ],
   "source": [
    "df1.dtypes"
   ]
  },
  {
   "cell_type": "code",
   "execution_count": 14,
   "id": "4519616f",
   "metadata": {},
   "outputs": [],
   "source": [
    "df1['competition_open_since_month'] = df1['competition_open_since_month'].astype('int64')\n",
    "df1['competition_open_since_year'] = df1['competition_open_since_year'].astype('int64')\n",
    "df1['promo2_since_week'] = df1['promo2_since_week'].astype('int64')\n",
    "df1['promo2_since_year'] = df1['promo2_since_year'].astype('int64')"
   ]
  },
  {
   "cell_type": "code",
   "execution_count": 15,
   "id": "bc61728c",
   "metadata": {},
   "outputs": [
    {
     "data": {
      "text/plain": [
       "store                                    int64\n",
       "day_of_week                              int64\n",
       "date                            datetime64[ns]\n",
       "sales                                    int64\n",
       "customers                                int64\n",
       "open                                     int64\n",
       "promo                                    int64\n",
       "state_holiday                           object\n",
       "school_holiday                           int64\n",
       "store_type                              object\n",
       "assortment                              object\n",
       "competition_distance                   float64\n",
       "competition_open_since_month             int64\n",
       "competition_open_since_year              int64\n",
       "promo2                                   int64\n",
       "promo2_since_week                        int64\n",
       "promo2_since_year                        int64\n",
       "promo_interval                          object\n",
       "month_map                               object\n",
       "is_promo                                 int64\n",
       "dtype: object"
      ]
     },
     "execution_count": 15,
     "metadata": {},
     "output_type": "execute_result"
    }
   ],
   "source": [
    "df1.dtypes"
   ]
  },
  {
   "cell_type": "code",
   "execution_count": 16,
   "id": "bd67d171",
   "metadata": {},
   "outputs": [
    {
     "data": {
      "text/plain": [
       "<bound method NDFrame.sample of 0          0\n",
       "1          1\n",
       "2          1\n",
       "3          0\n",
       "4          0\n",
       "          ..\n",
       "1017204    1\n",
       "1017205    0\n",
       "1017206    0\n",
       "1017207    0\n",
       "1017208    1\n",
       "Name: promo2, Length: 1017209, dtype: int64>"
      ]
     },
     "execution_count": 16,
     "metadata": {},
     "output_type": "execute_result"
    }
   ],
   "source": [
    "df1['promo2'].sample"
   ]
  },
  {
   "cell_type": "markdown",
   "id": "c5c24c5a",
   "metadata": {},
   "source": [
    "# 1.7 Descriptive Statistics"
   ]
  },
  {
   "cell_type": "code",
   "execution_count": 17,
   "id": "89f4815c",
   "metadata": {},
   "outputs": [],
   "source": [
    "num_attributes = df1.select_dtypes(include = ['int64', 'float64'])\n",
    "cat_attributes = df1.select_dtypes(exclude = ['int64', 'float64', 'datetime64[ns]'])"
   ]
  },
  {
   "cell_type": "code",
   "execution_count": 18,
   "id": "29cd6a82",
   "metadata": {},
   "outputs": [
    {
     "data": {
      "text/html": [
       "<div>\n",
       "<style scoped>\n",
       "    .dataframe tbody tr th:only-of-type {\n",
       "        vertical-align: middle;\n",
       "    }\n",
       "\n",
       "    .dataframe tbody tr th {\n",
       "        vertical-align: top;\n",
       "    }\n",
       "\n",
       "    .dataframe thead th {\n",
       "        text-align: right;\n",
       "    }\n",
       "</style>\n",
       "<table border=\"1\" class=\"dataframe\">\n",
       "  <thead>\n",
       "    <tr style=\"text-align: right;\">\n",
       "      <th></th>\n",
       "      <th>attributes</th>\n",
       "      <th>min</th>\n",
       "      <th>max</th>\n",
       "      <th>range</th>\n",
       "      <th>mean</th>\n",
       "      <th>median</th>\n",
       "      <th>standard_deviation</th>\n",
       "      <th>skew</th>\n",
       "      <th>kurtosis</th>\n",
       "    </tr>\n",
       "  </thead>\n",
       "  <tbody>\n",
       "    <tr>\n",
       "      <th>0</th>\n",
       "      <td>store</td>\n",
       "      <td>1.0</td>\n",
       "      <td>1115.0</td>\n",
       "      <td>1114.0</td>\n",
       "      <td>558.429727</td>\n",
       "      <td>558.0</td>\n",
       "      <td>321.908493</td>\n",
       "      <td>-0.000955</td>\n",
       "      <td>-1.200524</td>\n",
       "    </tr>\n",
       "    <tr>\n",
       "      <th>1</th>\n",
       "      <td>day_of_week</td>\n",
       "      <td>1.0</td>\n",
       "      <td>7.0</td>\n",
       "      <td>6.0</td>\n",
       "      <td>3.998341</td>\n",
       "      <td>4.0</td>\n",
       "      <td>1.997390</td>\n",
       "      <td>0.001593</td>\n",
       "      <td>-1.246873</td>\n",
       "    </tr>\n",
       "    <tr>\n",
       "      <th>2</th>\n",
       "      <td>sales</td>\n",
       "      <td>0.0</td>\n",
       "      <td>41551.0</td>\n",
       "      <td>41551.0</td>\n",
       "      <td>5773.818972</td>\n",
       "      <td>5744.0</td>\n",
       "      <td>3849.924283</td>\n",
       "      <td>0.641460</td>\n",
       "      <td>1.778375</td>\n",
       "    </tr>\n",
       "    <tr>\n",
       "      <th>3</th>\n",
       "      <td>customers</td>\n",
       "      <td>0.0</td>\n",
       "      <td>7388.0</td>\n",
       "      <td>7388.0</td>\n",
       "      <td>633.145946</td>\n",
       "      <td>609.0</td>\n",
       "      <td>464.411506</td>\n",
       "      <td>1.598650</td>\n",
       "      <td>7.091773</td>\n",
       "    </tr>\n",
       "    <tr>\n",
       "      <th>4</th>\n",
       "      <td>open</td>\n",
       "      <td>0.0</td>\n",
       "      <td>1.0</td>\n",
       "      <td>1.0</td>\n",
       "      <td>0.830107</td>\n",
       "      <td>1.0</td>\n",
       "      <td>0.375539</td>\n",
       "      <td>-1.758045</td>\n",
       "      <td>1.090723</td>\n",
       "    </tr>\n",
       "    <tr>\n",
       "      <th>5</th>\n",
       "      <td>promo</td>\n",
       "      <td>0.0</td>\n",
       "      <td>1.0</td>\n",
       "      <td>1.0</td>\n",
       "      <td>0.381515</td>\n",
       "      <td>0.0</td>\n",
       "      <td>0.485758</td>\n",
       "      <td>0.487838</td>\n",
       "      <td>-1.762018</td>\n",
       "    </tr>\n",
       "    <tr>\n",
       "      <th>6</th>\n",
       "      <td>school_holiday</td>\n",
       "      <td>0.0</td>\n",
       "      <td>1.0</td>\n",
       "      <td>1.0</td>\n",
       "      <td>0.178647</td>\n",
       "      <td>0.0</td>\n",
       "      <td>0.383056</td>\n",
       "      <td>1.677842</td>\n",
       "      <td>0.815154</td>\n",
       "    </tr>\n",
       "    <tr>\n",
       "      <th>7</th>\n",
       "      <td>competition_distance</td>\n",
       "      <td>20.0</td>\n",
       "      <td>200000.0</td>\n",
       "      <td>199980.0</td>\n",
       "      <td>5935.442677</td>\n",
       "      <td>2330.0</td>\n",
       "      <td>12547.646829</td>\n",
       "      <td>10.242344</td>\n",
       "      <td>147.789712</td>\n",
       "    </tr>\n",
       "    <tr>\n",
       "      <th>8</th>\n",
       "      <td>competition_open_since_month</td>\n",
       "      <td>1.0</td>\n",
       "      <td>12.0</td>\n",
       "      <td>11.0</td>\n",
       "      <td>6.786849</td>\n",
       "      <td>7.0</td>\n",
       "      <td>3.311085</td>\n",
       "      <td>-0.042076</td>\n",
       "      <td>-1.232607</td>\n",
       "    </tr>\n",
       "    <tr>\n",
       "      <th>9</th>\n",
       "      <td>competition_open_since_year</td>\n",
       "      <td>1900.0</td>\n",
       "      <td>2015.0</td>\n",
       "      <td>115.0</td>\n",
       "      <td>2010.324840</td>\n",
       "      <td>2012.0</td>\n",
       "      <td>5.515591</td>\n",
       "      <td>-7.235657</td>\n",
       "      <td>124.071304</td>\n",
       "    </tr>\n",
       "    <tr>\n",
       "      <th>10</th>\n",
       "      <td>promo2</td>\n",
       "      <td>0.0</td>\n",
       "      <td>1.0</td>\n",
       "      <td>1.0</td>\n",
       "      <td>0.500564</td>\n",
       "      <td>1.0</td>\n",
       "      <td>0.500000</td>\n",
       "      <td>-0.002255</td>\n",
       "      <td>-1.999999</td>\n",
       "    </tr>\n",
       "    <tr>\n",
       "      <th>11</th>\n",
       "      <td>promo2_since_week</td>\n",
       "      <td>1.0</td>\n",
       "      <td>52.0</td>\n",
       "      <td>51.0</td>\n",
       "      <td>23.619033</td>\n",
       "      <td>22.0</td>\n",
       "      <td>14.310057</td>\n",
       "      <td>0.178723</td>\n",
       "      <td>-1.184046</td>\n",
       "    </tr>\n",
       "    <tr>\n",
       "      <th>12</th>\n",
       "      <td>promo2_since_year</td>\n",
       "      <td>2009.0</td>\n",
       "      <td>2015.0</td>\n",
       "      <td>6.0</td>\n",
       "      <td>2012.793297</td>\n",
       "      <td>2013.0</td>\n",
       "      <td>1.662657</td>\n",
       "      <td>-0.784436</td>\n",
       "      <td>-0.210075</td>\n",
       "    </tr>\n",
       "    <tr>\n",
       "      <th>13</th>\n",
       "      <td>is_promo</td>\n",
       "      <td>0.0</td>\n",
       "      <td>1.0</td>\n",
       "      <td>1.0</td>\n",
       "      <td>0.155231</td>\n",
       "      <td>0.0</td>\n",
       "      <td>0.362124</td>\n",
       "      <td>1.904152</td>\n",
       "      <td>1.625796</td>\n",
       "    </tr>\n",
       "  </tbody>\n",
       "</table>\n",
       "</div>"
      ],
      "text/plain": [
       "                      attributes     min       max     range         mean  \\\n",
       "0                          store     1.0    1115.0    1114.0   558.429727   \n",
       "1                    day_of_week     1.0       7.0       6.0     3.998341   \n",
       "2                          sales     0.0   41551.0   41551.0  5773.818972   \n",
       "3                      customers     0.0    7388.0    7388.0   633.145946   \n",
       "4                           open     0.0       1.0       1.0     0.830107   \n",
       "5                          promo     0.0       1.0       1.0     0.381515   \n",
       "6                 school_holiday     0.0       1.0       1.0     0.178647   \n",
       "7           competition_distance    20.0  200000.0  199980.0  5935.442677   \n",
       "8   competition_open_since_month     1.0      12.0      11.0     6.786849   \n",
       "9    competition_open_since_year  1900.0    2015.0     115.0  2010.324840   \n",
       "10                        promo2     0.0       1.0       1.0     0.500564   \n",
       "11             promo2_since_week     1.0      52.0      51.0    23.619033   \n",
       "12             promo2_since_year  2009.0    2015.0       6.0  2012.793297   \n",
       "13                      is_promo     0.0       1.0       1.0     0.155231   \n",
       "\n",
       "    median  standard_deviation       skew    kurtosis  \n",
       "0    558.0          321.908493  -0.000955   -1.200524  \n",
       "1      4.0            1.997390   0.001593   -1.246873  \n",
       "2   5744.0         3849.924283   0.641460    1.778375  \n",
       "3    609.0          464.411506   1.598650    7.091773  \n",
       "4      1.0            0.375539  -1.758045    1.090723  \n",
       "5      0.0            0.485758   0.487838   -1.762018  \n",
       "6      0.0            0.383056   1.677842    0.815154  \n",
       "7   2330.0        12547.646829  10.242344  147.789712  \n",
       "8      7.0            3.311085  -0.042076   -1.232607  \n",
       "9   2012.0            5.515591  -7.235657  124.071304  \n",
       "10     1.0            0.500000  -0.002255   -1.999999  \n",
       "11    22.0           14.310057   0.178723   -1.184046  \n",
       "12  2013.0            1.662657  -0.784436   -0.210075  \n",
       "13     0.0            0.362124   1.904152    1.625796  "
      ]
     },
     "execution_count": 18,
     "metadata": {},
     "output_type": "execute_result"
    }
   ],
   "source": [
    "# Numerical Attributes\n",
    "# Tendencia central\n",
    "\n",
    "\n",
    "# '.T' é um 'transpose', nao entendi direito pra que serve (deve ser pra visualizar a tabela deitada, acho q eh isso)\n",
    "ct1 = pd.DataFrame(num_attributes.apply(np.mean)).T\n",
    "ct2 = pd.DataFrame(num_attributes.apply(np.median)).T\n",
    "\n",
    "# Dispersao\n",
    "d1 = pd.DataFrame(num_attributes.apply(np.std)).T\n",
    "d2 = pd.DataFrame(num_attributes.apply(max)).T\n",
    "d3 = pd.DataFrame(num_attributes.apply(min)).T\n",
    "#range\n",
    "d4 = pd.DataFrame(num_attributes.apply(lambda x: x.max() - x.min())).T\n",
    "d5 = pd.DataFrame(num_attributes.apply(lambda x: x.skew())).T\n",
    "d6 = pd.DataFrame(num_attributes.apply(lambda x: x.kurtosis())).T\n",
    "\n",
    "m = pd.concat([d3, d2, d4, ct1, ct2, d1, d5, d6]).T.reset_index()\n",
    "m.columns = ['attributes', 'min', 'max', 'range', 'mean', 'median', 'standard_deviation', 'skew', 'kurtosis']\n",
    "\n",
    "m"
   ]
  },
  {
   "cell_type": "code",
   "execution_count": 19,
   "id": "a4b2483b",
   "metadata": {},
   "outputs": [
    {
     "data": {
      "text/plain": [
       "<AxesSubplot:xlabel='customers', ylabel='Density'>"
      ]
     },
     "execution_count": 19,
     "metadata": {},
     "output_type": "execute_result"
    },
    {
     "data": {
      "image/png": "[encoded data removed]",
      "text/plain": [
       "<Figure size 432x288 with 1 Axes>"
      ]
     },
     "metadata": {
      "needs_background": "light"
     },
     "output_type": "display_data"
    }
   ],
   "source": [
    "sns.distplot(df1['customers'])"
   ]
  },
  {
   "cell_type": "code",
   "execution_count": 20,
   "id": "3a11b7e8",
   "metadata": {},
   "outputs": [],
   "source": [
    "# Categorical Attributes\n"
   ]
  },
  {
   "cell_type": "code",
   "execution_count": 21,
   "id": "6ae61987",
   "metadata": {},
   "outputs": [
    {
     "data": {
      "text/plain": [
       "state_holiday      4\n",
       "store_type         4\n",
       "assortment         3\n",
       "promo_interval     4\n",
       "month_map         12\n",
       "dtype: int64"
      ]
     },
     "execution_count": 21,
     "metadata": {},
     "output_type": "execute_result"
    }
   ],
   "source": [
    "cat_attributes.apply(lambda x: x.unique().shape[0])"
   ]
  },
  {
   "cell_type": "code",
   "execution_count": 22,
   "id": "dc4b305c",
   "metadata": {},
   "outputs": [
    {
     "data": {
      "text/plain": [
       "<AxesSubplot:xlabel='assortment', ylabel='sales'>"
      ]
     },
     "execution_count": 22,
     "metadata": {},
     "output_type": "execute_result"
    },
    {
     "data": {
      "image/png": "[encoded data removed]",
      "text/plain": [
       "<Figure size 432x288 with 3 Axes>"
      ]
     },
     "metadata": {
      "needs_background": "light"
     },
     "output_type": "display_data"
    }
   ],
   "source": [
    "aux1 = df1[(df1['state_holiday'] != '0') & (df1['sales'] > 0)]\n",
    "\n",
    "plt.subplot(1, 3, 1)\n",
    "sns.boxplot(x='state_holiday',y='sales', data=aux1)\n",
    "plt.subplot(1, 3, 2)\n",
    "sns.boxplot(x='store_type',y='sales', data=aux1)\n",
    "plt.subplot(1, 3, 3)\n",
    "sns.boxplot(x='assortment',y='sales', data=aux1)\n"
   ]
  },
  {
   "cell_type": "markdown",
   "id": "460d8af6",
   "metadata": {},
   "source": [
    "# 2.0 Feature Engineering"
   ]
  },
  {
   "cell_type": "code",
   "execution_count": 22,
   "id": "4aa8afd5",
   "metadata": {},
   "outputs": [],
   "source": [
    "df2 = df1.copy()"
   ]
  },
  {
   "cell_type": "markdown",
   "id": "db59968e",
   "metadata": {},
   "source": [
    "## 2.1 Criacao de Hipoteses"
   ]
  },
  {
   "cell_type": "markdown",
   "id": "b3a7dd55",
   "metadata": {},
   "source": [
    "### 2.1.1 Hipoteses da loja"
   ]
  },
  {
   "cell_type": "markdown",
   "id": "4331ee85",
   "metadata": {},
   "source": [
    "**1.** Lojas com maior quadro de funcionarios deveriam vender mais\n",
    "\n",
    "**2.** Lojas com maior estoque deveriam vender mais\n",
    "\n",
    "**3.** Lojas com maior porte deveriam vender mais\n",
    "\n",
    "**4.** Lojas com maior sortimento deveriam vender mais\n",
    "\n",
    "**5.** Lojas com competidores mais proximos deveriam vender menos\n",
    "\n",
    "**6.** Lojas com competidores proximos a mais tempo deveriam vender mais"
   ]
  },
  {
   "cell_type": "markdown",
   "id": "93a7d438",
   "metadata": {},
   "source": [
    "### 2.1.2 Hipoteses do produto"
   ]
  },
  {
   "cell_type": "markdown",
   "id": "0859c8bc",
   "metadata": {},
   "source": [
    "**1.** Lojas que investem mais em marketing deveriam vender mais\n",
    "\n",
    "**2.** Lojas que expoe mais os produtos na vitrine deveriam vender mais\n",
    "\n",
    "**3.** Lojas que tem preços menores deveriam vender mais\n",
    "\n",
    "**4.** Lojas que tem precos menores por mais tempo deveriam vender mais\n",
    "\n",
    "**5.** Lojas com promocoes ativas por mais tempo deveriam vender mais\n",
    "\n",
    "**6.** Lojas com promocoes consecutivas deveriam vender mais"
   ]
  },
  {
   "cell_type": "markdown",
   "id": "9cdf55fe",
   "metadata": {},
   "source": [
    "### 2.1.3 Hipoteses temporais"
   ]
  },
  {
   "cell_type": "markdown",
   "id": "e02d867a",
   "metadata": {},
   "source": [
    "**1.** Lojas que fecham mais em feriados deveriam vender menos\n",
    "\n",
    "**2.** Lojas que abrem nos finais de semana deveriam vender mais\n",
    "\n",
    "**3.** Lojas deveriam vender mais ao longo dos anos\n",
    "\n",
    "**4.** Lojas deveriam vender mais no segundo semestre dos anos\n",
    "\n",
    "**5.** Lojas deveriam vender mais depois do dia 10 de cada mes\n",
    "\n",
    "**6.** Lojas deveriam vender mais no segundo semestre dos anos\n",
    "\n",
    "**7.** Lojas deveriam vender menos em feriados escolares"
   ]
  },
  {
   "cell_type": "markdown",
   "id": "85640008",
   "metadata": {},
   "source": [
    "## 2.2 Lista final de Hipoteses"
   ]
  },
  {
   "cell_type": "markdown",
   "id": "4fe6eda1",
   "metadata": {},
   "source": [
    "### o criterio utilizado foi se eu ja tenho esse dado disponivel na minha base de dados"
   ]
  },
  {
   "cell_type": "markdown",
   "id": "f67628a1",
   "metadata": {},
   "source": [
    "**1.** Lojas com maior sortimento deveriam vender mais\n",
    "\n",
    "**2.** Lojas com competidores mais proximos deveriam vender menos\n",
    "\n",
    "**3.** Lojas com competidores proximos a mais tempo deveriam vender mais\n",
    "\n",
    "**4.** Lojas com promocoes ativas por mais tempo deveriam vender mais\n",
    "\n",
    "**5.** Lojas com promocoes consecutivas deveriam vender mais\n",
    "\n",
    "**6.** Lojas que fecham mais em feriados deveriam vender menos\n",
    "\n",
    "**7.** Lojas que abrem nos finais de semana deveriam vender mais\n",
    "\n",
    "**8.** Lojas deveriam vender mais ao longo dos anos\n",
    "\n",
    "**9.** Lojas deveriam vender mais no segundo semestre dos anos\n",
    "\n",
    "**10.** Lojas deveriam vender mais depois do dia 10 de cada mes\n",
    "\n",
    "**11.** Lojas deveriam vender mais no segundo semestre dos anos\n",
    "\n",
    "**12.** Lojas deveriam vender menos em feriados escolares"
   ]
  },
  {
   "cell_type": "markdown",
   "id": "008dfdef",
   "metadata": {},
   "source": [
    "## 2.3 Feature Engineering"
   ]
  },
  {
   "cell_type": "code",
   "execution_count": 23,
   "id": "8f0f321c",
   "metadata": {},
   "outputs": [],
   "source": [
    "# year\n",
    "df2['year'] = df2['date'].dt.year\n",
    "\n",
    "# month\n",
    "df2['month'] = df2['date'].dt.month\n",
    "\n",
    "# day\n",
    "df2['day'] = df2['date'].dt.day\n",
    "\n",
    "# week of year\n",
    "df2['week_of_year'] = df2['date'].dt.isocalendar().week\n",
    "\n",
    "# year week\n",
    "df2['year_week'] = df2['date'].dt.strftime('%Y-%W')\n",
    "\n",
    "\n",
    "# competition since\n",
    "df2['competition_since'] = df2.apply(lambda x: dtt.datetime(year=x['competition_open_since_year'],\n",
    "                                                                 month=x['competition_open_since_month'],\n",
    "                                                                 day=1), axis=1)\n",
    "df2['competition_time_month'] = ((df2['date'] - df2['competition_since'])/30).apply(lambda x: x.days).astype('int64')\n",
    "\n",
    "# promo since\n",
    "df2['promo_since'] = df2['promo2_since_year'].astype(str) + '-' + df2['promo2_since_week'].astype(str)\n",
    "\n",
    "df2['promo_since'] = df2['promo_since'].apply(\n",
    "    lambda x: dtt.datetime.strptime(x + '-1', '%Y-%W-%w') - dtt.timedelta(days = 7))\n",
    "\n",
    "df2['promo_time_week'] = ((df2['date'] - df2['promo_since'])/7).apply(lambda x: x.days).astype('int64')\n",
    "\n",
    "\n",
    "# assortment\n",
    "df2['assortment'] = df2['assortment'].apply(lambda x: 'basic' if x == 'a' else 'extra' if x == 'b' else 'extended')\n",
    "\n",
    "\n",
    "# state holiday\n",
    "df2['state_holiday'] = df2['state_holiday'].apply(\n",
    "    lambda x: 'public_holiday' if x == 'a' else 'easter' if x == 'b' else 'christmas' if x == 'c' else 'regular_day')\n"
   ]
  },
  {
   "cell_type": "code",
   "execution_count": 24,
   "id": "b33804d3",
   "metadata": {},
   "outputs": [
    {
     "data": {
      "text/plain": [
       "store                                    int64\n",
       "day_of_week                              int64\n",
       "date                            datetime64[ns]\n",
       "sales                                    int64\n",
       "customers                                int64\n",
       "open                                     int64\n",
       "promo                                    int64\n",
       "state_holiday                           object\n",
       "school_holiday                           int64\n",
       "store_type                              object\n",
       "assortment                              object\n",
       "competition_distance                   float64\n",
       "competition_open_since_month             int64\n",
       "competition_open_since_year              int64\n",
       "promo2                                   int64\n",
       "promo2_since_week                        int64\n",
       "promo2_since_year                        int64\n",
       "promo_interval                          object\n",
       "month_map                               object\n",
       "is_promo                                 int64\n",
       "year                                     int64\n",
       "month                                    int64\n",
       "day                                      int64\n",
       "week_of_year                            UInt32\n",
       "year_week                               object\n",
       "competition_since               datetime64[ns]\n",
       "competition_time_month                   int64\n",
       "promo_since                     datetime64[ns]\n",
       "promo_time_week                          int64\n",
       "dtype: object"
      ]
     },
     "execution_count": 24,
     "metadata": {},
     "output_type": "execute_result"
    }
   ],
   "source": [
    "df2.dtypes"
   ]
  },
  {
   "cell_type": "markdown",
   "id": "9c4ec64d",
   "metadata": {},
   "source": [
    "# 3.0 Filtragem de Variaveis"
   ]
  },
  {
   "cell_type": "code",
   "execution_count": 25,
   "id": "98311c73",
   "metadata": {},
   "outputs": [],
   "source": [
    "df3 = df2.copy()"
   ]
  },
  {
   "cell_type": "code",
   "execution_count": 26,
   "id": "567cc3c2",
   "metadata": {},
   "outputs": [
    {
     "data": {
      "text/html": [
       "<div>\n",
       "<style scoped>\n",
       "    .dataframe tbody tr th:only-of-type {\n",
       "        vertical-align: middle;\n",
       "    }\n",
       "\n",
       "    .dataframe tbody tr th {\n",
       "        vertical-align: top;\n",
       "    }\n",
       "\n",
       "    .dataframe thead th {\n",
       "        text-align: right;\n",
       "    }\n",
       "</style>\n",
       "<table border=\"1\" class=\"dataframe\">\n",
       "  <thead>\n",
       "    <tr style=\"text-align: right;\">\n",
       "      <th></th>\n",
       "      <th>store</th>\n",
       "      <th>day_of_week</th>\n",
       "      <th>date</th>\n",
       "      <th>sales</th>\n",
       "      <th>customers</th>\n",
       "      <th>open</th>\n",
       "      <th>promo</th>\n",
       "      <th>state_holiday</th>\n",
       "      <th>school_holiday</th>\n",
       "      <th>store_type</th>\n",
       "      <th>...</th>\n",
       "      <th>is_promo</th>\n",
       "      <th>year</th>\n",
       "      <th>month</th>\n",
       "      <th>day</th>\n",
       "      <th>week_of_year</th>\n",
       "      <th>year_week</th>\n",
       "      <th>competition_since</th>\n",
       "      <th>competition_time_month</th>\n",
       "      <th>promo_since</th>\n",
       "      <th>promo_time_week</th>\n",
       "    </tr>\n",
       "  </thead>\n",
       "  <tbody>\n",
       "    <tr>\n",
       "      <th>0</th>\n",
       "      <td>1</td>\n",
       "      <td>5</td>\n",
       "      <td>2015-07-31</td>\n",
       "      <td>5263</td>\n",
       "      <td>555</td>\n",
       "      <td>1</td>\n",
       "      <td>1</td>\n",
       "      <td>regular_day</td>\n",
       "      <td>1</td>\n",
       "      <td>c</td>\n",
       "      <td>...</td>\n",
       "      <td>0</td>\n",
       "      <td>2015</td>\n",
       "      <td>7</td>\n",
       "      <td>31</td>\n",
       "      <td>31</td>\n",
       "      <td>2015-30</td>\n",
       "      <td>2008-09-01</td>\n",
       "      <td>84</td>\n",
       "      <td>2015-07-27</td>\n",
       "      <td>0</td>\n",
       "    </tr>\n",
       "    <tr>\n",
       "      <th>1</th>\n",
       "      <td>2</td>\n",
       "      <td>5</td>\n",
       "      <td>2015-07-31</td>\n",
       "      <td>6064</td>\n",
       "      <td>625</td>\n",
       "      <td>1</td>\n",
       "      <td>1</td>\n",
       "      <td>regular_day</td>\n",
       "      <td>1</td>\n",
       "      <td>a</td>\n",
       "      <td>...</td>\n",
       "      <td>1</td>\n",
       "      <td>2015</td>\n",
       "      <td>7</td>\n",
       "      <td>31</td>\n",
       "      <td>31</td>\n",
       "      <td>2015-30</td>\n",
       "      <td>2007-11-01</td>\n",
       "      <td>94</td>\n",
       "      <td>2010-03-22</td>\n",
       "      <td>279</td>\n",
       "    </tr>\n",
       "    <tr>\n",
       "      <th>2</th>\n",
       "      <td>3</td>\n",
       "      <td>5</td>\n",
       "      <td>2015-07-31</td>\n",
       "      <td>8314</td>\n",
       "      <td>821</td>\n",
       "      <td>1</td>\n",
       "      <td>1</td>\n",
       "      <td>regular_day</td>\n",
       "      <td>1</td>\n",
       "      <td>a</td>\n",
       "      <td>...</td>\n",
       "      <td>1</td>\n",
       "      <td>2015</td>\n",
       "      <td>7</td>\n",
       "      <td>31</td>\n",
       "      <td>31</td>\n",
       "      <td>2015-30</td>\n",
       "      <td>2006-12-01</td>\n",
       "      <td>105</td>\n",
       "      <td>2011-03-28</td>\n",
       "      <td>226</td>\n",
       "    </tr>\n",
       "    <tr>\n",
       "      <th>3</th>\n",
       "      <td>4</td>\n",
       "      <td>5</td>\n",
       "      <td>2015-07-31</td>\n",
       "      <td>13995</td>\n",
       "      <td>1498</td>\n",
       "      <td>1</td>\n",
       "      <td>1</td>\n",
       "      <td>regular_day</td>\n",
       "      <td>1</td>\n",
       "      <td>c</td>\n",
       "      <td>...</td>\n",
       "      <td>0</td>\n",
       "      <td>2015</td>\n",
       "      <td>7</td>\n",
       "      <td>31</td>\n",
       "      <td>31</td>\n",
       "      <td>2015-30</td>\n",
       "      <td>2009-09-01</td>\n",
       "      <td>71</td>\n",
       "      <td>2015-07-27</td>\n",
       "      <td>0</td>\n",
       "    </tr>\n",
       "    <tr>\n",
       "      <th>4</th>\n",
       "      <td>5</td>\n",
       "      <td>5</td>\n",
       "      <td>2015-07-31</td>\n",
       "      <td>4822</td>\n",
       "      <td>559</td>\n",
       "      <td>1</td>\n",
       "      <td>1</td>\n",
       "      <td>regular_day</td>\n",
       "      <td>1</td>\n",
       "      <td>a</td>\n",
       "      <td>...</td>\n",
       "      <td>0</td>\n",
       "      <td>2015</td>\n",
       "      <td>7</td>\n",
       "      <td>31</td>\n",
       "      <td>31</td>\n",
       "      <td>2015-30</td>\n",
       "      <td>2015-04-01</td>\n",
       "      <td>4</td>\n",
       "      <td>2015-07-27</td>\n",
       "      <td>0</td>\n",
       "    </tr>\n",
       "  </tbody>\n",
       "</table>\n",
       "<p>5 rows × 29 columns</p>\n",
       "</div>"
      ],
      "text/plain": [
       "   store  day_of_week       date  sales  customers  open  promo state_holiday  \\\n",
       "0      1            5 2015-07-31   5263        555     1      1   regular_day   \n",
       "1      2            5 2015-07-31   6064        625     1      1   regular_day   \n",
       "2      3            5 2015-07-31   8314        821     1      1   regular_day   \n",
       "3      4            5 2015-07-31  13995       1498     1      1   regular_day   \n",
       "4      5            5 2015-07-31   4822        559     1      1   regular_day   \n",
       "\n",
       "   school_holiday store_type  ... is_promo  year  month  day  week_of_year  \\\n",
       "0               1          c  ...        0  2015      7   31            31   \n",
       "1               1          a  ...        1  2015      7   31            31   \n",
       "2               1          a  ...        1  2015      7   31            31   \n",
       "3               1          c  ...        0  2015      7   31            31   \n",
       "4               1          a  ...        0  2015      7   31            31   \n",
       "\n",
       "   year_week  competition_since competition_time_month promo_since  \\\n",
       "0    2015-30         2008-09-01                     84  2015-07-27   \n",
       "1    2015-30         2007-11-01                     94  2010-03-22   \n",
       "2    2015-30         2006-12-01                    105  2011-03-28   \n",
       "3    2015-30         2009-09-01                     71  2015-07-27   \n",
       "4    2015-30         2015-04-01                      4  2015-07-27   \n",
       "\n",
       "   promo_time_week  \n",
       "0                0  \n",
       "1              279  \n",
       "2              226  \n",
       "3                0  \n",
       "4                0  \n",
       "\n",
       "[5 rows x 29 columns]"
      ]
     },
     "execution_count": 26,
     "metadata": {},
     "output_type": "execute_result"
    }
   ],
   "source": [
    "df3.head()\n"
   ]
  },
  {
   "cell_type": "markdown",
   "id": "d165916c",
   "metadata": {},
   "source": [
    "## 3.1 Filtragem das Linhas"
   ]
  },
  {
   "cell_type": "code",
   "execution_count": 27,
   "id": "a376316e",
   "metadata": {},
   "outputs": [],
   "source": [
    "df3 = df3[(df3['open'] != 0) & (df3['sales'] > 0)]"
   ]
  },
  {
   "cell_type": "markdown",
   "id": "de794b20",
   "metadata": {},
   "source": [
    "## 3.2 Selecao das Colunas"
   ]
  },
  {
   "cell_type": "code",
   "execution_count": 28,
   "id": "cdfab942",
   "metadata": {},
   "outputs": [],
   "source": [
    "cols_drop = ['customers', 'open', 'promo_interval', 'month_map']\n",
    "df3 = df3.drop(cols_drop, axis=1)"
   ]
  },
  {
   "cell_type": "code",
   "execution_count": 29,
   "id": "85ed8fbe",
   "metadata": {
    "scrolled": true
   },
   "outputs": [
    {
     "data": {
      "text/plain": [
       "Index(['store', 'day_of_week', 'date', 'sales', 'promo', 'state_holiday',\n",
       "       'school_holiday', 'store_type', 'assortment', 'competition_distance',\n",
       "       'competition_open_since_month', 'competition_open_since_year', 'promo2',\n",
       "       'promo2_since_week', 'promo2_since_year', 'is_promo', 'year', 'month',\n",
       "       'day', 'week_of_year', 'year_week', 'competition_since',\n",
       "       'competition_time_month', 'promo_since', 'promo_time_week'],\n",
       "      dtype='object')"
      ]
     },
     "execution_count": 29,
     "metadata": {},
     "output_type": "execute_result"
    }
   ],
   "source": [
    "df3.columns\n"
   ]
  },
  {
   "cell_type": "markdown",
   "id": "bfd2a9a4",
   "metadata": {},
   "source": [
    "# 4.0 Analise Exploratoria dos Dados - EDA"
   ]
  },
  {
   "cell_type": "code",
   "execution_count": 30,
   "id": "d424d933",
   "metadata": {},
   "outputs": [],
   "source": [
    "df4 = df3.copy()"
   ]
  },
  {
   "cell_type": "markdown",
   "id": "a7b160a6",
   "metadata": {},
   "source": [
    "## 4.1 Analise univariada"
   ]
  },
  {
   "cell_type": "markdown",
   "id": "fb86f678",
   "metadata": {},
   "source": [
    "### 4.1.1 Response variable"
   ]
  },
  {
   "cell_type": "code",
   "execution_count": 31,
   "id": "0959645d",
   "metadata": {},
   "outputs": [
    {
     "data": {
      "text/plain": [
       "<AxesSubplot:xlabel='sales', ylabel='Count'>"
      ]
     },
     "execution_count": 31,
     "metadata": {},
     "output_type": "execute_result"
    },
    {
     "data": {
      "image/png": "[encoded data removed]",
      "text/plain": [
       "<Figure size 432x288 with 1 Axes>"
      ]
     },
     "metadata": {
      "needs_background": "light"
     },
     "output_type": "display_data"
    }
   ],
   "source": [
    "sns.histplot(df4['sales'], kde=True)"
   ]
  },
  {
   "cell_type": "markdown",
   "id": "d4039222",
   "metadata": {},
   "source": [
    "### 4.1.2 Numerical variables"
   ]
  },
  {
   "cell_type": "code",
   "execution_count": 32,
   "id": "25eabf3d",
   "metadata": {},
   "outputs": [
    {
     "data": {
      "image/png": "[encoded data removed]",
      "text/plain": [
       "<Figure size 432x288 with 16 Axes>"
      ]
     },
     "metadata": {
      "needs_background": "light"
     },
     "output_type": "display_data"
    }
   ],
   "source": [
    "#plt.subplot(5, 3, 1)\n",
    "#num_attributes['store'].hist(bins=25);\n",
    "#plt.subplot(5, 3, 2)\n",
    "#plt.subplot(5, 3, 3)\n",
    "#plt.subplot(5, 3, 4)\n",
    "#plt.subplot(5, 3, 5)\n",
    "#plt.subplot(5, 3, 6)\n",
    "#plt.subplot(5, 3, 7)\n",
    "#plt.subplot(5, 3, 8)\n",
    "#plt.subplot(5, 3, 9)\n",
    "#plt.subplot(5, 3, 10)\n",
    "#plt.subplot(5, 3, 11)\n",
    "#plt.subplot(5, 3, 12)\n",
    "#plt.subplot(5, 3, 13)\n",
    "#plt.subplot(5, 3, 14)\n",
    "\n",
    "num_attributes.hist(bins=25);\n"
   ]
  },
  {
   "cell_type": "markdown",
   "id": "8ebb3456",
   "metadata": {},
   "source": [
    "### 4.1.3 Categorical variables"
   ]
  },
  {
   "cell_type": "code",
   "execution_count": 33,
   "id": "2f6a7265",
   "metadata": {},
   "outputs": [
    {
     "data": {
      "text/plain": [
       "0            regular_day\n",
       "63559     public_holiday\n",
       "129424            easter\n",
       "241126         christmas\n",
       "Name: state_holiday, dtype: object"
      ]
     },
     "execution_count": 33,
     "metadata": {},
     "output_type": "execute_result"
    }
   ],
   "source": [
    "df4['state_holiday'].drop_duplicates()"
   ]
  },
  {
   "cell_type": "code",
   "execution_count": 34,
   "id": "944e9952",
   "metadata": {},
   "outputs": [
    {
     "data": {
      "text/plain": [
       "<AxesSubplot:xlabel='sales', ylabel='Density'>"
      ]
     },
     "execution_count": 34,
     "metadata": {},
     "output_type": "execute_result"
    },
    {
     "data": {
      "image/png": "[encoded data removed]",
      "text/plain": [
       "<Figure size 432x288 with 6 Axes>"
      ]
     },
     "metadata": {
      "needs_background": "light"
     },
     "output_type": "display_data"
    }
   ],
   "source": [
    "#state_holiday\n",
    "plt.subplot(3, 2, 1)\n",
    "a = df4[df4['state_holiday'] !='regular_day'] \n",
    "sns.countplot(a['state_holiday'])\n",
    "\n",
    "plt.subplot(3, 2, 2)\n",
    "sns.kdeplot(df4[df4['state_holiday'] == 'public_holiday']['sales'], label='public_holiday', shade=True)\n",
    "\n",
    "sns.kdeplot(df4[df4['state_holiday'] == 'easter']['sales'], label='easter', shade=True)\n",
    "\n",
    "sns.kdeplot(df4[df4['state_holiday'] == 'christmas']['sales'], label='christmas', shade=True)\n",
    "\n",
    "\n",
    "#store_type\n",
    "plt.subplot(3, 2, 3)\n",
    "sns.countplot(df4['store_type'])\n",
    "\n",
    "plt.subplot(3, 2, 4)\n",
    "sns.kdeplot(df4[df4['store_type'] == 'a']['sales'], label='a', shade=True)\n",
    "\n",
    "sns.kdeplot(df4[df4['store_type'] == 'b']['sales'], label='b', shade=True)\n",
    "\n",
    "sns.kdeplot(df4[df4['store_type'] == 'c']['sales'], label='c', shade=True)\n",
    "\n",
    "sns.kdeplot(df4[df4['store_type'] == 'd']['sales'], label='d', shade=True)\n",
    "\n",
    "\n",
    "#assortment\n",
    "\n",
    "plt.subplot(3, 2, 5)\n",
    "sns.countplot(df4['assortment'])\n",
    "\n",
    "plt.subplot(3, 2, 6)\n",
    "sns.kdeplot(df4[df4['assortment'] == 'basic']['sales'], label='basic', shade=True)\n",
    "\n",
    "sns.kdeplot(df4[df4['assortment'] == 'extended']['sales'], label='extended', shade=True)\n",
    "\n",
    "sns.kdeplot(df4[df4['assortment'] == 'extra']['sales'], label='extra', shade=True)\n"
   ]
  },
  {
   "cell_type": "markdown",
   "id": "62b043ce",
   "metadata": {},
   "source": [
    "## 4.2 Analise bivariada"
   ]
  },
  {
   "cell_type": "markdown",
   "id": "9a81415c",
   "metadata": {},
   "source": [
    "**1.** Lojas com maior sortimento deveriam vender mais\n",
    "\n",
    "**FALSA**\n",
    "\n",
    "essa hipotese é falsa, lojas com maior sortimento vendem menos (isso oq o meigarom falou, mas eu acho que a gente deveria ver as lojas com maior sortimento PROPORCIONALMENTE, pois existem bem menos lojas extra doq as outras, entao logico que vai acontecer isso"
   ]
  },
  {
   "cell_type": "code",
   "execution_count": 35,
   "id": "3fb83929",
   "metadata": {},
   "outputs": [
    {
     "data": {
      "text/html": [
       "<div>\n",
       "<style scoped>\n",
       "    .dataframe tbody tr th:only-of-type {\n",
       "        vertical-align: middle;\n",
       "    }\n",
       "\n",
       "    .dataframe tbody tr th {\n",
       "        vertical-align: top;\n",
       "    }\n",
       "\n",
       "    .dataframe thead th {\n",
       "        text-align: right;\n",
       "    }\n",
       "</style>\n",
       "<table border=\"1\" class=\"dataframe\">\n",
       "  <thead>\n",
       "    <tr style=\"text-align: right;\">\n",
       "      <th></th>\n",
       "      <th>date</th>\n",
       "    </tr>\n",
       "    <tr>\n",
       "      <th>assortment</th>\n",
       "      <th></th>\n",
       "    </tr>\n",
       "  </thead>\n",
       "  <tbody>\n",
       "    <tr>\n",
       "      <th>basic</th>\n",
       "      <td>444875</td>\n",
       "    </tr>\n",
       "    <tr>\n",
       "      <th>extended</th>\n",
       "      <td>391254</td>\n",
       "    </tr>\n",
       "    <tr>\n",
       "      <th>extra</th>\n",
       "      <td>8209</td>\n",
       "    </tr>\n",
       "  </tbody>\n",
       "</table>\n",
       "</div>"
      ],
      "text/plain": [
       "              date\n",
       "assortment        \n",
       "basic       444875\n",
       "extended    391254\n",
       "extra         8209"
      ]
     },
     "execution_count": 35,
     "metadata": {},
     "output_type": "execute_result"
    }
   ],
   "source": [
    "df4[['assortment','date']].groupby('assortment').count()"
   ]
  },
  {
   "cell_type": "code",
   "execution_count": 36,
   "id": "1a95d093",
   "metadata": {},
   "outputs": [
    {
     "data": {
      "text/plain": [
       "<AxesSubplot:xlabel='year_week'>"
      ]
     },
     "execution_count": 36,
     "metadata": {},
     "output_type": "execute_result"
    },
    {
     "data": {
      "image/png": "[encoded data removed]",
      "text/plain": [
       "<Figure size 432x288 with 1 Axes>"
      ]
     },
     "metadata": {
      "needs_background": "light"
     },
     "output_type": "display_data"
    },
    {
     "data": {
      "image/png": "[encoded data removed]",
      "text/plain": [
       "<Figure size 432x288 with 1 Axes>"
      ]
     },
     "metadata": {
      "needs_background": "light"
     },
     "output_type": "display_data"
    },
    {
     "data": {
      "image/png": "[encoded data removed]",
      "text/plain": [
       "<Figure size 432x288 with 1 Axes>"
      ]
     },
     "metadata": {
      "needs_background": "light"
     },
     "output_type": "display_data"
    }
   ],
   "source": [
    "aux1 = df4[['assortment', 'sales']].groupby('assortment').sum().reset_index()\n",
    "sns.barplot(x='assortment', y='sales', data=aux1);\n",
    "\n",
    "aux2 = df4[['year_week', 'assortment', 'sales']].groupby(['year_week', 'assortment']).sum().reset_index()\n",
    "\n",
    "aux2.pivot(index='year_week', columns='assortment', values='sales').plot()\n",
    "\n",
    "aux3 = aux2[aux2['assortment'] == 'extra']\n",
    "aux3.pivot(index='year_week', columns='assortment', values='sales').plot()\n",
    "\n"
   ]
  },
  {
   "cell_type": "markdown",
   "id": "79d995b3",
   "metadata": {},
   "source": [
    "**2.** Lojas com competidores mais proximos deveriam vender menos\n",
    "\n",
    "**FALSE**"
   ]
  },
  {
   "cell_type": "code",
   "execution_count": 37,
   "id": "8ec9335c",
   "metadata": {},
   "outputs": [
    {
     "data": {
      "text/plain": [
       "<AxesSubplot:>"
      ]
     },
     "execution_count": 37,
     "metadata": {},
     "output_type": "execute_result"
    },
    {
     "data": {
      "image/png": "[encoded data removed]",
      "text/plain": [
       "<Figure size 432x288 with 4 Axes>"
      ]
     },
     "metadata": {
      "needs_background": "light"
     },
     "output_type": "display_data"
    }
   ],
   "source": [
    "aux1 = df4[['competition_distance', 'sales']].groupby('competition_distance').sum().reset_index()\n",
    "\n",
    "plt.subplot(1, 3, 1)\n",
    "sns.scatterplot(x='competition_distance', y='sales', data=aux1)\n",
    "\n",
    "plt.subplot(1, 3, 2)\n",
    "bins = list(np.arange(0,20000,1000))\n",
    "aux1['competition_distance_binned'] = pd.cut(aux1['competition_distance'], bins=bins)\n",
    "aux2 = aux1[['competition_distance_binned', 'sales']].groupby('competition_distance_binned').sum().reset_index()\n",
    "sns.barplot(x='competition_distance_binned', y='sales', data=aux2);\n",
    "plt.xticks(rotation=90)\n",
    "\n",
    "plt.subplot(1, 3, 3)\n",
    "sns.heatmap(aux1.corr(method='pearson'),annot=True)\n"
   ]
  },
  {
   "cell_type": "markdown",
   "id": "50b2331f",
   "metadata": {},
   "source": [
    "**3.** Lojas com competidores proximos a mais tempo deveriam vender mais\n",
    "\n",
    "**FALSA**"
   ]
  },
  {
   "cell_type": "code",
   "execution_count": 38,
   "id": "d9fbe247",
   "metadata": {},
   "outputs": [
    {
     "data": {
      "image/png": "[encoded data removed]",
      "text/plain": [
       "<Figure size 432x288 with 4 Axes>"
      ]
     },
     "metadata": {
      "needs_background": "light"
     },
     "output_type": "display_data"
    }
   ],
   "source": [
    "plt.subplot(1, 3, 1)\n",
    "aux1 = df4[['competition_time_month', 'sales']].groupby('competition_time_month').sum().reset_index()\n",
    "aux2 = aux1[(aux1['competition_time_month']< 120) &(aux1['competition_time_month'] != 0)]\n",
    "\n",
    "sns.barplot(x='competition_time_month', y='sales', data=aux2)\n",
    "plt.xticks(rotation=90);\n",
    "\n",
    "\n",
    "plt.subplot(1, 3, 2)\n",
    "sns.regplot(x='competition_time_month', y='sales', data=aux2)\n",
    "\n",
    "plt.subplot(1, 3, 3)\n",
    "\n",
    "x = sns.heatmap(aux1.corr(method='pearson'), annot=True);\n",
    "bottom, top = x.get_ylim()\n",
    "x.set_ylim(bottom+0.5, top-0.5);"
   ]
  },
  {
   "cell_type": "markdown",
   "id": "4803f257",
   "metadata": {},
   "source": [
    "**4.** Lojas com promocoes ativas por mais tempo deveriam vender mais\n",
    "\n",
    "**FALSA**"
   ]
  },
  {
   "cell_type": "code",
   "execution_count": 39,
   "id": "68994569",
   "metadata": {},
   "outputs": [
    {
     "data": {
      "text/plain": [
       "<AxesSubplot:xlabel='promo_time_week', ylabel='sales'>"
      ]
     },
     "execution_count": 39,
     "metadata": {},
     "output_type": "execute_result"
    },
    {
     "data": {
      "image/png": "[encoded data removed]",
      "text/plain": [
       "<Figure size 432x288 with 4 Axes>"
      ]
     },
     "metadata": {
      "needs_background": "light"
     },
     "output_type": "display_data"
    }
   ],
   "source": [
    "aux1 = df4[['promo_time_week', 'sales']].groupby('promo_time_week').sum().reset_index()\n",
    "#sns.barplot(x='promo_time_week', y='sales', data=aux1);\n",
    "\n",
    "\n",
    "plt.subplot(2, 2, 1)\n",
    "aux2 = aux1[aux1['promo_time_week'] > 0] #promo extendido\n",
    "sns.barplot(x='promo_time_week', y='sales', data=aux2);\n",
    "plt.xticks(rotation=90);\n",
    "\n",
    "\n",
    "plt.subplot(2, 2, 2)\n",
    "sns.regplot(x='promo_time_week', y='sales', data=aux2)\n",
    "\n",
    "\n",
    "plt.subplot(2, 2, 3)\n",
    "aux3 = aux1[aux1['promo_time_week'] < 0] #promo regular\n",
    "sns.barplot(x='promo_time_week', y='sales', data=aux3);\n",
    "plt.xticks(rotation=90);\n",
    "\n",
    "\n",
    "plt.subplot(2, 2, 4)\n",
    "sns.regplot(x='promo_time_week', y='sales', data=aux3)\n",
    "\n"
   ]
  },
  {
   "cell_type": "markdown",
   "id": "43f28658",
   "metadata": {},
   "source": [
    "**5.** Lojas com promocoes consecutivas deveriam vender mais"
   ]
  },
  {
   "cell_type": "code",
   "execution_count": null,
   "id": "6dafe3bd",
   "metadata": {},
   "outputs": [],
   "source": []
  },
  {
   "cell_type": "markdown",
   "id": "5d1389a9",
   "metadata": {},
   "source": [
    "**6.** Lojas que fecham mais em feriados deveriam vender menos"
   ]
  },
  {
   "cell_type": "code",
   "execution_count": null,
   "id": "c33f5185",
   "metadata": {},
   "outputs": [],
   "source": []
  },
  {
   "cell_type": "markdown",
   "id": "b97563fa",
   "metadata": {},
   "source": [
    "**7.** Lojas que abrem nos finais de semana deveriam vender mais"
   ]
  },
  {
   "cell_type": "code",
   "execution_count": null,
   "id": "a886acee",
   "metadata": {},
   "outputs": [],
   "source": []
  },
  {
   "cell_type": "markdown",
   "id": "2eb8bd6b",
   "metadata": {},
   "source": [
    "**8.** Lojas deveriam vender mais ao longo dos anos"
   ]
  },
  {
   "cell_type": "code",
   "execution_count": null,
   "id": "652df5e8",
   "metadata": {},
   "outputs": [],
   "source": []
  },
  {
   "cell_type": "markdown",
   "id": "f2d66ee9",
   "metadata": {},
   "source": [
    "**9.** Lojas deveriam vender mais no segundo semestre dos anos"
   ]
  },
  {
   "cell_type": "code",
   "execution_count": null,
   "id": "4a8082f3",
   "metadata": {},
   "outputs": [],
   "source": []
  },
  {
   "cell_type": "markdown",
   "id": "b248b942",
   "metadata": {},
   "source": [
    "**10.** Lojas deveriam vender mais depois do dia 10 de cada mes"
   ]
  },
  {
   "cell_type": "code",
   "execution_count": null,
   "id": "b0ff8246",
   "metadata": {},
   "outputs": [],
   "source": []
  },
  {
   "cell_type": "markdown",
   "id": "4c494fe8",
   "metadata": {},
   "source": [
    "**11.** Lojas deveriam vender mais no segundo semestre dos anos"
   ]
  },
  {
   "cell_type": "code",
   "execution_count": null,
   "id": "3e786d0b",
   "metadata": {},
   "outputs": [],
   "source": []
  },
  {
   "cell_type": "markdown",
   "id": "868a9099",
   "metadata": {},
   "source": [
    "**12.** Lojas deveriam vender menos em feriados escolares"
   ]
  },
  {
   "cell_type": "code",
   "execution_count": null,
   "id": "8aafb71d",
   "metadata": {},
   "outputs": [],
   "source": []
  },
  {
   "cell_type": "markdown",
   "id": "da77a66e",
   "metadata": {},
   "source": [
    "## 4.3 Analise multivariada"
   ]
  },
  {
   "cell_type": "markdown",
   "id": "9634b116",
   "metadata": {},
   "source": [
    "### 4.3.1 Numerical attributes"
   ]
  },
  {
   "cell_type": "code",
   "execution_count": 40,
   "id": "f3ebe816",
   "metadata": {},
   "outputs": [
    {
     "data": {
      "text/plain": [
       "<AxesSubplot:>"
      ]
     },
     "execution_count": 40,
     "metadata": {},
     "output_type": "execute_result"
    },
    {
     "data": {
      "image/png": "[encoded data removed]",
      "text/plain": [
       "<Figure size 432x288 with 2 Axes>"
      ]
     },
     "metadata": {
      "needs_background": "light"
     },
     "output_type": "display_data"
    }
   ],
   "source": [
    "correlation = num_attributes.corr(method='pearson')\n",
    "sns.heatmap(correlation, annot=True)"
   ]
  },
  {
   "cell_type": "markdown",
   "id": "4430e21c",
   "metadata": {},
   "source": [
    "### 4.3.2 Categorical attributes"
   ]
  },
  {
   "cell_type": "code",
   "execution_count": 41,
   "id": "3f6f6d59",
   "metadata": {},
   "outputs": [],
   "source": [
    "a = df4.select_dtypes(include='object')"
   ]
  },
  {
   "cell_type": "code",
   "execution_count": 42,
   "id": "d35cb63f",
   "metadata": {
    "scrolled": true
   },
   "outputs": [
    {
     "data": {
      "text/html": [
       "<div>\n",
       "<style scoped>\n",
       "    .dataframe tbody tr th:only-of-type {\n",
       "        vertical-align: middle;\n",
       "    }\n",
       "\n",
       "    .dataframe tbody tr th {\n",
       "        vertical-align: top;\n",
       "    }\n",
       "\n",
       "    .dataframe thead th {\n",
       "        text-align: right;\n",
       "    }\n",
       "</style>\n",
       "<table border=\"1\" class=\"dataframe\">\n",
       "  <thead>\n",
       "    <tr style=\"text-align: right;\">\n",
       "      <th></th>\n",
       "      <th>state_holiday</th>\n",
       "      <th>store_type</th>\n",
       "      <th>assortment</th>\n",
       "      <th>year_week</th>\n",
       "    </tr>\n",
       "  </thead>\n",
       "  <tbody>\n",
       "    <tr>\n",
       "      <th>0</th>\n",
       "      <td>regular_day</td>\n",
       "      <td>c</td>\n",
       "      <td>basic</td>\n",
       "      <td>2015-30</td>\n",
       "    </tr>\n",
       "    <tr>\n",
       "      <th>1</th>\n",
       "      <td>regular_day</td>\n",
       "      <td>a</td>\n",
       "      <td>basic</td>\n",
       "      <td>2015-30</td>\n",
       "    </tr>\n",
       "    <tr>\n",
       "      <th>2</th>\n",
       "      <td>regular_day</td>\n",
       "      <td>a</td>\n",
       "      <td>basic</td>\n",
       "      <td>2015-30</td>\n",
       "    </tr>\n",
       "    <tr>\n",
       "      <th>3</th>\n",
       "      <td>regular_day</td>\n",
       "      <td>c</td>\n",
       "      <td>extended</td>\n",
       "      <td>2015-30</td>\n",
       "    </tr>\n",
       "    <tr>\n",
       "      <th>4</th>\n",
       "      <td>regular_day</td>\n",
       "      <td>a</td>\n",
       "      <td>basic</td>\n",
       "      <td>2015-30</td>\n",
       "    </tr>\n",
       "  </tbody>\n",
       "</table>\n",
       "</div>"
      ],
      "text/plain": [
       "  state_holiday store_type assortment year_week\n",
       "0   regular_day          c      basic   2015-30\n",
       "1   regular_day          a      basic   2015-30\n",
       "2   regular_day          a      basic   2015-30\n",
       "3   regular_day          c   extended   2015-30\n",
       "4   regular_day          a      basic   2015-30"
      ]
     },
     "execution_count": 42,
     "metadata": {},
     "output_type": "execute_result"
    }
   ],
   "source": [
    "a.head()"
   ]
  },
  {
   "cell_type": "code",
   "execution_count": 43,
   "id": "2ae9e5cd",
   "metadata": {},
   "outputs": [],
   "source": [
    "a1 = cramer_v(a['state_holiday'], a['state_holiday'])\n",
    "a2 = cramer_v(a['state_holiday'], a['store_type'])\n",
    "a3 = cramer_v(a['state_holiday'], a['assortment'])\n",
    "\n",
    "a4 = cramer_v(a['store_type'], a['state_holiday'])\n",
    "a5 = cramer_v(a['store_type'], a['store_type'])\n",
    "a6 = cramer_v(a['store_type'], a['assortment'])\n",
    "\n",
    "a7 = cramer_v(a['assortment'], a['state_holiday'])\n",
    "a8 = cramer_v(a['assortment'], a['store_type'])\n",
    "a9 = cramer_v(a['assortment'], a['assortment'])\n",
    "\n",
    "d = pd.DataFrame({'state_holiday': [a1, a2, a3],\n",
    "              'store_type': [a4, a5, a6],\n",
    "              'assortment': [a7, a8, a9] })\n",
    "\n",
    "d = d.set_index(d.columns)"
   ]
  },
  {
   "cell_type": "code",
   "execution_count": 44,
   "id": "ec110125",
   "metadata": {},
   "outputs": [
    {
     "data": {
      "text/plain": [
       "<AxesSubplot:>"
      ]
     },
     "execution_count": 44,
     "metadata": {},
     "output_type": "execute_result"
    },
    {
     "data": {
      "image/png": "[encoded data removed]",
      "text/plain": [
       "<Figure size 432x288 with 2 Axes>"
      ]
     },
     "metadata": {
      "needs_background": "light"
     },
     "output_type": "display_data"
    }
   ],
   "source": [
    "sns.heatmap(d, annot=True)"
   ]
  },
  {
   "cell_type": "markdown",
   "id": "63ce3f32",
   "metadata": {},
   "source": [
    "# 5.0 Data Preparation"
   ]
  },
  {
   "cell_type": "code",
   "execution_count": 45,
   "id": "2522b769",
   "metadata": {},
   "outputs": [],
   "source": [
    "df5 = df4.copy()"
   ]
  },
  {
   "cell_type": "markdown",
   "id": "5c977937",
   "metadata": {},
   "source": [
    "## 5.1 Normalização"
   ]
  },
  {
   "cell_type": "code",
   "execution_count": 46,
   "id": "06bfc4a7",
   "metadata": {},
   "outputs": [],
   "source": [
    "# nas variaveis numericas nao tinha nada com uma distribuicao normal, entao optamos por fazer apenas o reescaling\n"
   ]
  },
  {
   "cell_type": "markdown",
   "id": "98f411c3",
   "metadata": {},
   "source": [
    "## 5.2 Rescaling"
   ]
  },
  {
   "cell_type": "code",
   "execution_count": 47,
   "id": "3a28a4a1",
   "metadata": {},
   "outputs": [],
   "source": [
    "a = df5.select_dtypes(include=['int64', 'float64'] )"
   ]
  },
  {
   "cell_type": "code",
   "execution_count": 48,
   "id": "120164f1",
   "metadata": {},
   "outputs": [],
   "source": [
    "#muitos outliers, usar robust scaler\n",
    "#sns.boxplot(data=df5['competition_distance'])\n",
    "\n",
    "#muitos outliers, usar robust scaler\n",
    "#sns.boxplot(data=df5['competition_time_month'])\n",
    "\n",
    "#poucos outliers, usar min-max scaler\n",
    "#sns.boxplot(data=df5['promo_time_week'])"
   ]
  },
  {
   "cell_type": "code",
   "execution_count": 49,
   "id": "0f4a88df",
   "metadata": {},
   "outputs": [],
   "source": [
    "rs = RobustScaler()\n",
    "mms = MinMaxScaler()\n",
    "\n",
    "#competition distance\n",
    "df5['competition_distance'] = rs.fit_transform(df5[['competition_distance']].values)\n",
    "pickle.dump(rs, open('parameter/competition_distance_scaler.pkl', 'wb'))\n",
    "\n",
    "# year\n",
    "df5['year'] = mms.fit_transform(df5[['year']].values)\n",
    "pickle.dump(mms, open('parameter/year_scaler.pkl', 'wb'))\n",
    "\n",
    "# competition time month\n",
    "df5['competition_time_month'] = rs.fit_transform(df5[['competition_time_month']].values)\n",
    "pickle.dump(rs, open('parameter/competition_time_month_scaler.pkl', 'wb'))\n",
    "\n",
    "\n",
    "# promo time week\n",
    "df5['promo_time_week'] = mms.fit_transform(df5[['promo_time_week']].values)\n",
    "pickle.dump(rs, open('parameter/promo_time_week_scaler.pkl', 'wb'))\n"
   ]
  },
  {
   "cell_type": "markdown",
   "id": "c219410d",
   "metadata": {},
   "source": [
    "## 5.3 Transformacao"
   ]
  },
  {
   "cell_type": "markdown",
   "id": "2e249a3d",
   "metadata": {},
   "source": [
    "### 5.3.1 Encoding"
   ]
  },
  {
   "cell_type": "code",
   "execution_count": 50,
   "id": "13f9e7ce",
   "metadata": {},
   "outputs": [],
   "source": [
    "# state_holiday - one hot encoding\n",
    "df5 = pd.get_dummies(df5, prefix=['state_holiday'], columns=['state_holiday'])\n",
    "# store_type - Label encoding\n",
    "le = LabelEncoder()\n",
    "df5['store_type'] = le.fit_transform(df5['store_type'])\n",
    "pickle.dump(le, open('parameter/store_type_scaler.pkl', 'wb'))\n",
    "\n",
    "#assortment - ordinal encoding\n",
    "assortment_dict = {'basic': 1,\n",
    "                 'extended': 3, \n",
    "                 'extra': 2}\n",
    "df5['assortment'] = df5['assortment'].map(assortment_dict)"
   ]
  },
  {
   "cell_type": "markdown",
   "id": "10d47517",
   "metadata": {},
   "source": [
    "### 5.3.2 Response Variable Transformation"
   ]
  },
  {
   "cell_type": "code",
   "execution_count": 51,
   "id": "0b84f425",
   "metadata": {},
   "outputs": [],
   "source": [
    "df5['sales'] = np.log1p(df5['sales'])\n"
   ]
  },
  {
   "cell_type": "code",
   "execution_count": 52,
   "id": "4743188f",
   "metadata": {},
   "outputs": [
    {
     "data": {
      "text/plain": [
       "<AxesSubplot:xlabel='sales', ylabel='Density'>"
      ]
     },
     "execution_count": 52,
     "metadata": {},
     "output_type": "execute_result"
    },
    {
     "data": {
      "image/png": "[encoded data removed]",
      "text/plain": [
       "<Figure size 432x288 with 1 Axes>"
      ]
     },
     "metadata": {
      "needs_background": "light"
     },
     "output_type": "display_data"
    }
   ],
   "source": [
    "sns.distplot(df5['sales'])"
   ]
  },
  {
   "cell_type": "markdown",
   "id": "b326be88",
   "metadata": {},
   "source": [
    "### 5.3.3 Nature Transformation"
   ]
  },
  {
   "cell_type": "markdown",
   "id": "f04b2946",
   "metadata": {},
   "source": [
    "#### 5.3..3.1 Natureza Ciclica"
   ]
  },
  {
   "cell_type": "code",
   "execution_count": 53,
   "id": "ca593ad4",
   "metadata": {},
   "outputs": [],
   "source": [
    "# month\n",
    "df5['month_sin'] = df5['month'].apply(lambda x: np.sin( x * ( 2 * np.pi/12 )))\n",
    "df5['month_cos'] = df5['month'].apply(lambda x: np.cos( x * ( 2 * np.pi/12 )))\n",
    "\n",
    "# day\n",
    "df5['day_sin'] = df5['day'].apply(lambda x: np.sin( x * ( 2 * np.pi/30 )))\n",
    "df5['day_cos'] = df5['day'].apply(lambda x: np.cos( x * ( 2 * np.pi/30 )))\n",
    "\n",
    "# week of year\n",
    "df5['week_of_year_sin'] = df5['week_of_year'].apply(lambda x: np.sin( x * ( 2 * np.pi/52 )))\n",
    "df5['week_of_year_cos'] = df5['week_of_year'].apply(lambda x: np.cos( x * ( 2 * np.pi/52 )))\n",
    "\n",
    "# day of week\n",
    "df5['day_of_week_sin'] = df5['day_of_week'].apply(lambda x: np.sin( x * ( 2 * np.pi/7 )))\n",
    "df5['day_of_week_cos'] = df5['day_of_week'].apply(lambda x: np.cos( x * ( 2 * np.pi/7 )))"
   ]
  },
  {
   "cell_type": "code",
   "execution_count": 54,
   "id": "7ef037ae",
   "metadata": {},
   "outputs": [],
   "source": [
    "# ta so nao entendi oqq eu faço com isso daí"
   ]
  },
  {
   "cell_type": "markdown",
   "id": "a18cffa3",
   "metadata": {},
   "source": [
    "# 6.0 Feature Selection"
   ]
  },
  {
   "cell_type": "code",
   "execution_count": 55,
   "id": "a0bff65b",
   "metadata": {},
   "outputs": [],
   "source": [
    "df6 = df5.copy()"
   ]
  },
  {
   "cell_type": "markdown",
   "id": "e5bc7215",
   "metadata": {},
   "source": [
    "## 6.1 Split dataframe into training and test dataset"
   ]
  },
  {
   "cell_type": "code",
   "execution_count": 56,
   "id": "d15a877b",
   "metadata": {
    "scrolled": true
   },
   "outputs": [],
   "source": [
    "cols_drop = ['month', 'week_of_year', 'day_of_week', 'day', 'promo_since', 'competition_since', 'year_week']\n",
    "df6 = df6.drop(cols_drop, axis=1)"
   ]
  },
  {
   "cell_type": "code",
   "execution_count": 57,
   "id": "bbfa779b",
   "metadata": {},
   "outputs": [
    {
     "data": {
      "text/plain": [
       "Timestamp('2015-06-19 00:00:00')"
      ]
     },
     "execution_count": 57,
     "metadata": {},
     "output_type": "execute_result"
    }
   ],
   "source": [
    "# foi decidido arbitrariamente utilizar as ultimas 6 semanas de vendas como treino e o periodo anterior a esse,\n",
    "# desde o inicio das atividades das lojas, como teste\n",
    "\n",
    "df6[['date', 'store']].groupby('store').max().reset_index()['date'][0] - dtt.timedelta(days=6*7)"
   ]
  },
  {
   "cell_type": "code",
   "execution_count": 58,
   "id": "3675e445",
   "metadata": {},
   "outputs": [
    {
     "name": "stdout",
     "output_type": "stream",
     "text": [
      "Training Min Date: 2013-01-01 00:00:00\n",
      "Training Max Date: 2015-06-18 00:00:00\n",
      "Test Min Date: 2015-06-19 00:00:00\n",
      "Test Max Date: 2015-07-31 00:00:00\n"
     ]
    }
   ],
   "source": [
    "# x sera o df sem a variavel resposta e y o df apenas com a variavel resposta\n",
    "#training dataset\n",
    "X_train = df6[df6['date'] < '2015-06-19']\n",
    "Y_train = X_train['sales']\n",
    "\n",
    "#test dataset\n",
    "X_test = df6[df6['date'] >= '2015-06-19']\n",
    "Y_test = X_test['sales']\n",
    "\n",
    "print('Training Min Date: {}'.format(X_train['date'].min()))\n",
    "print('Training Max Date: {}'.format(X_train['date'].max()))\n",
    "\n",
    "print('Test Min Date: {}'.format(X_test['date'].min()))\n",
    "print('Test Max Date: {}'.format(X_test['date'].max()))"
   ]
  },
  {
   "cell_type": "markdown",
   "id": "b343ad74",
   "metadata": {},
   "source": [
    "## 6.2 Boruta as Feature Selector"
   ]
  },
  {
   "cell_type": "code",
   "execution_count": 59,
   "id": "285d7f27",
   "metadata": {},
   "outputs": [],
   "source": [
    "# define random forest regressor\n",
    "#rf = RandomForestRegressor(n_jobs=-1)"
   ]
  },
  {
   "cell_type": "code",
   "execution_count": 60,
   "id": "f1d37676",
   "metadata": {},
   "outputs": [],
   "source": [
    "#training and test dataset for boruta\n",
    "#X_train_n = X_train.drop(['date', 'sales'], axis=1).values\n",
    "#Y_train_n = Y_train.values.ravel()"
   ]
  },
  {
   "cell_type": "code",
   "execution_count": 61,
   "id": "00cf48cb",
   "metadata": {},
   "outputs": [],
   "source": [
    "# rf -> random forest \n",
    "# n_estimators='auto' -> falar pro algoritmo escolher qual o melhor numero de arvores na hr da ramificação\n",
    "# verbose=2 -> pra ver ele printando oq ele ta fazendo\n",
    "# random_state=42 -> é pro algoritmo 'partir do mesmo inicio' (n entendi), pode ser qqr numero, 42 foi arbitrario\n",
    "\n",
    "# nao pode passar um DF pra ele, tem que passar um 'vetor de numeros'\n",
    "\n",
    "# demorou umas 2h pra rodar kkk slc\n",
    "#boruta = BorutaPy(rf, n_estimators='auto', verbose=2, random_state=42).fit(X_train_n, Y_train_n)"
   ]
  },
  {
   "cell_type": "markdown",
   "id": "ba60e270",
   "metadata": {},
   "source": [
    "### 6.2.1 Best Features From Boruta"
   ]
  },
  {
   "cell_type": "code",
   "execution_count": 62,
   "id": "95479147",
   "metadata": {},
   "outputs": [],
   "source": [
    "#cols_selected = boruta.support_.tolist()\n",
    "\n",
    "#best features\n",
    "#X_train_fs = X_train.drop(['date','sales'], axis=1)\n",
    "#cols_selected_boruta = X_train_fs.iloc[:, cols_selected].columns.to_list()\n",
    "\n",
    "# not selected columns boruta\n",
    "#cols_not_selected_boruta = list(np.setdiff1d(X_train_fs.columns, cols_selected_boruta))"
   ]
  },
  {
   "cell_type": "markdown",
   "id": "9b91550e",
   "metadata": {},
   "source": [
    "## 6.3 Manual Feature Selection"
   ]
  },
  {
   "cell_type": "code",
   "execution_count": 63,
   "id": "f9f40536",
   "metadata": {},
   "outputs": [],
   "source": [
    "cols_selected_boruta = [\n",
    "     'store',\n",
    "     'promo',\n",
    "     'store_type',\n",
    "     'assortment',\n",
    "     'competition_distance',\n",
    "     'competition_open_since_month',\n",
    "     'competition_open_since_year',\n",
    "     'promo2',\n",
    "     'promo2_since_week',\n",
    "     'promo2_since_year',\n",
    "     'competition_time_month',\n",
    "     'promo_time_week',\n",
    "     'month_cos',\n",
    "     'month_sin',\n",
    "     'day_sin',\n",
    "     'day_cos',\n",
    "     'week_of_year_cos',\n",
    "     'week_of_year_sin',\n",
    "     'day_of_week_sin',\n",
    "     'day_of_week_cos']\n",
    "\n",
    "#columns to add\n",
    "feat_to_add = ['date', 'sales']\n",
    "\n",
    "#final features\n",
    "#cols_selected_boruta.extend(feat_to_add)\n",
    "\n",
    "cols_selected_boruta_full = cols_selected_boruta.copy()\n",
    "cols_selected_boruta_full.extend(feat_to_add)"
   ]
  },
  {
   "cell_type": "code",
   "execution_count": 64,
   "id": "2a22e563",
   "metadata": {},
   "outputs": [],
   "source": [
    "cols_not_selected_boruta = [\n",
    "     'is_promo',\n",
    "     'school_holiday',\n",
    "     'state_holiday_christmas',\n",
    "     'state_holiday_easter',\n",
    "     'state_holiday_public_holiday',\n",
    "     'state_holiday_regular_day',\n",
    "     'year']"
   ]
  },
  {
   "cell_type": "code",
   "execution_count": 65,
   "id": "a1b78266",
   "metadata": {},
   "outputs": [
    {
     "data": {
      "text/plain": [
       "['store',\n",
       " 'promo',\n",
       " 'store_type',\n",
       " 'assortment',\n",
       " 'competition_distance',\n",
       " 'competition_open_since_month',\n",
       " 'competition_open_since_year',\n",
       " 'promo2',\n",
       " 'promo2_since_week',\n",
       " 'promo2_since_year',\n",
       " 'competition_time_month',\n",
       " 'promo_time_week',\n",
       " 'month_cos',\n",
       " 'month_sin',\n",
       " 'day_sin',\n",
       " 'day_cos',\n",
       " 'week_of_year_cos',\n",
       " 'week_of_year_sin',\n",
       " 'day_of_week_sin',\n",
       " 'day_of_week_cos']"
      ]
     },
     "execution_count": 65,
     "metadata": {},
     "output_type": "execute_result"
    }
   ],
   "source": [
    "cols_selected_boruta"
   ]
  },
  {
   "cell_type": "markdown",
   "id": "6e7ed74d",
   "metadata": {},
   "source": [
    "# 7.0 Machine Learning Modelling"
   ]
  },
  {
   "cell_type": "code",
   "execution_count": 66,
   "id": "4ce57fc7",
   "metadata": {},
   "outputs": [],
   "source": [
    "x_train = X_train[cols_selected_boruta]\n",
    "x_test = X_test[cols_selected_boruta]\n",
    "\n",
    "#time series data preparation\n",
    "x_training = X_train[cols_selected_boruta_full]"
   ]
  },
  {
   "cell_type": "markdown",
   "id": "e8d35994",
   "metadata": {},
   "source": [
    "## 7.1 Average Model"
   ]
  },
  {
   "cell_type": "code",
   "execution_count": 67,
   "id": "ff1f175f",
   "metadata": {},
   "outputs": [
    {
     "data": {
      "text/html": [
       "<div>\n",
       "<style scoped>\n",
       "    .dataframe tbody tr th:only-of-type {\n",
       "        vertical-align: middle;\n",
       "    }\n",
       "\n",
       "    .dataframe tbody tr th {\n",
       "        vertical-align: top;\n",
       "    }\n",
       "\n",
       "    .dataframe thead th {\n",
       "        text-align: right;\n",
       "    }\n",
       "</style>\n",
       "<table border=\"1\" class=\"dataframe\">\n",
       "  <thead>\n",
       "    <tr style=\"text-align: right;\">\n",
       "      <th></th>\n",
       "      <th>model name</th>\n",
       "      <th>MAE</th>\n",
       "      <th>MAPE</th>\n",
       "      <th>RMSE</th>\n",
       "    </tr>\n",
       "  </thead>\n",
       "  <tbody>\n",
       "    <tr>\n",
       "      <th>0</th>\n",
       "      <td>Average Model</td>\n",
       "      <td>1354.800353</td>\n",
       "      <td>0.455051</td>\n",
       "      <td>1835.135542</td>\n",
       "    </tr>\n",
       "  </tbody>\n",
       "</table>\n",
       "</div>"
      ],
      "text/plain": [
       "      model name          MAE      MAPE         RMSE\n",
       "0  Average Model  1354.800353  0.455051  1835.135542"
      ]
     },
     "execution_count": 67,
     "metadata": {},
     "output_type": "execute_result"
    }
   ],
   "source": [
    "aux1 = x_test.copy()\n",
    "aux1['sales'] = Y_test.copy()\n",
    "\n",
    "#prediction\n",
    "# yhat é o y com acento circunflexo que é 'estimativa' em estatistica\n",
    "aux2 = aux1[['store', 'sales']].groupby('store').mean().reset_index().rename(columns={'sales': 'predictions'})\n",
    "aux1 = pd.merge(aux1, aux2, how='left', on='store')\n",
    "yhat_baseline = aux1['predictions']\n",
    "\n",
    "\n",
    "# performance\n",
    "baseline_result = ml_error('Average Model', np.expm1(Y_test), np.expm1(yhat_baseline))\n",
    "baseline_result"
   ]
  },
  {
   "cell_type": "markdown",
   "id": "35dde1e1",
   "metadata": {},
   "source": [
    "## 7.2 Linear Regression"
   ]
  },
  {
   "cell_type": "code",
   "execution_count": 68,
   "id": "8391f9ae",
   "metadata": {},
   "outputs": [],
   "source": [
    "# model\n",
    "#lr = LinearRegression().fit(x_train, Y_train)\n",
    "\n",
    "\n",
    "# prediction\n",
    "#yhat_lr = lr.predict(x_test)\n",
    "\n",
    "\n",
    "# performance\n",
    "#lr_result = ml_error('Linear Regression', np.expm1(Y_test), np.expm1(yhat_lr))\n",
    "#lr_result"
   ]
  },
  {
   "cell_type": "markdown",
   "id": "a64ab9dd",
   "metadata": {},
   "source": [
    "### 7.2.1 Linear regression cross validation"
   ]
  },
  {
   "cell_type": "code",
   "execution_count": 69,
   "id": "8cb7d380",
   "metadata": {},
   "outputs": [],
   "source": [
    "#lr_result_cv = cross_validation(x_training, 5, 'Linear Regression', lr, verbose=False)\n",
    "#lr_result_cv"
   ]
  },
  {
   "cell_type": "markdown",
   "id": "c57700ec",
   "metadata": {},
   "source": [
    "## 7.3 Linear Regression Regularized - Lasso"
   ]
  },
  {
   "cell_type": "code",
   "execution_count": 70,
   "id": "c3d8328e",
   "metadata": {},
   "outputs": [],
   "source": [
    "# model\n",
    "#lrr = Lasso(alpha=0.01).fit(x_train, Y_train)\n",
    "\n",
    "\n",
    "# prediction\n",
    "#yhat_lrr = lrr.predict(x_test)\n",
    "\n",
    "\n",
    "# performance\n",
    "#lrr_result = ml_error('Linear Regression Lasso', np.expm1(Y_test), np.expm1(yhat_lrr))\n",
    "#lrr_result"
   ]
  },
  {
   "cell_type": "markdown",
   "id": "84da54c2",
   "metadata": {},
   "source": [
    "### 7.3.1 Linear Regression Regularized Cross Validation"
   ]
  },
  {
   "cell_type": "code",
   "execution_count": 71,
   "id": "bb09f573",
   "metadata": {},
   "outputs": [],
   "source": [
    "#lrr_result_cv = cross_validation(x_training, 5, 'Linear Regression Lasso', lrr, verbose=False)\n",
    "#lrr_result_cv"
   ]
  },
  {
   "cell_type": "markdown",
   "id": "31df30a5",
   "metadata": {},
   "source": [
    "## 7.4 Random Forest Regressor"
   ]
  },
  {
   "cell_type": "code",
   "execution_count": 72,
   "id": "3b97989c",
   "metadata": {},
   "outputs": [],
   "source": [
    "# model\n",
    "#n_estimators=100, numero de arvores que ele vai criar\n",
    "# njobs=-1 pra ele rodar em paralelo\n",
    "#rf = RandomForestRegressor(n_estimators=100, n_jobs=-1, random_state=42).fit(x_train, Y_train)\n",
    "\n",
    "\n",
    "# prediction\n",
    "#yhat_rf = rf.predict(x_test)\n",
    "\n",
    "\n",
    "# performance\n",
    "#rf_result = ml_error('Random Forest Regressor', np.expm1(Y_test), np.expm1(yhat_rf))\n",
    "#rf_result"
   ]
  },
  {
   "cell_type": "markdown",
   "id": "5f04f12c",
   "metadata": {},
   "source": [
    "### 7.4.1 Random Forest Regressor Cross Validation"
   ]
  },
  {
   "cell_type": "code",
   "execution_count": 73,
   "id": "ab356514",
   "metadata": {},
   "outputs": [],
   "source": [
    "#rf_result_cv = cross_validation(x_training, 5, 'Random Forest', rf, verbose=False)\n",
    "#rf_result_cv"
   ]
  },
  {
   "cell_type": "markdown",
   "id": "50951c9b",
   "metadata": {},
   "source": [
    "## 7.5 XGBoost Regressor"
   ]
  },
  {
   "cell_type": "code",
   "execution_count": 74,
   "id": "8c04f384",
   "metadata": {},
   "outputs": [],
   "source": [
    "# model\n",
    "# objective='reg:squarederror', é a funcao objetiva, pra esse caso usa essa\n",
    "#eta=0.01, quantas passadas ele usa pra fazer o aprendizado\n",
    "#max_depth=10, maxima profundidade, ramificaçao que a arvore pode chegar\n",
    "#subsample=0.7, quantas amostras, ou qual a porcentagem de todas as variaveis que eu quero selecionar(???)\n",
    "#colsample_bytree=0.9 quero \"combinar\" por cada uma das arvores (???)\n",
    "# rodar com default, sem passar nenhum parametro\n",
    "# Nataniel santos e renato da nova\n",
    "#model_xgb = xgb.XGBRegressor(objective='reg:squarederror', \n",
    "#                             n_estimators=100, \n",
    "#                             eta=0.01, \n",
    "#                             max_depth=10, \n",
    "#                             subsample=0.7, \n",
    "#                             colsample_bytree=0.9).fit(x_train, Y_train)\n",
    "\n",
    "\n",
    "# prediction\n",
    "#yhat_xgb = model_xgb.predict(x_test)\n",
    "\n",
    "\n",
    "# performance\n",
    "#xgb_result = ml_error('XGBoost Regressor', np.expm1(Y_test), np.expm1(yhat_xgb))\n",
    "#xgb_result"
   ]
  },
  {
   "cell_type": "markdown",
   "id": "d9a70105",
   "metadata": {},
   "source": [
    "### 7.5.1 XGBoost Regressor Cross Validation"
   ]
  },
  {
   "cell_type": "code",
   "execution_count": 75,
   "id": "297347cf",
   "metadata": {},
   "outputs": [],
   "source": [
    "#xgb_result_cv = cross_validation(x_training, 5, 'XGBoost Regressor', model_xgb, verbose=True)\n",
    "#xgb_result_cv"
   ]
  },
  {
   "cell_type": "code",
   "execution_count": 76,
   "id": "9ca3569d",
   "metadata": {},
   "outputs": [],
   "source": [
    "#=======================\n",
    "#teste\n",
    "#=======================\n",
    "\n",
    "#model_xgb = xgb.XGBRegressor().fit(x_train, Y_train)\n",
    "\n",
    "\n",
    "# prediction\n",
    "#yhat_xgb = model_xgb.predict(x_test)\n",
    "\n",
    "\n",
    "# performance\n",
    "#xgb_result = ml_error('XGBoost Regressor', np.expm1(Y_test), np.expm1(yhat_xgb))\n",
    "#xgb_result"
   ]
  },
  {
   "cell_type": "markdown",
   "id": "8080769b",
   "metadata": {},
   "source": [
    "## 7.6 Compare Models Performance"
   ]
  },
  {
   "cell_type": "markdown",
   "id": "6c5a6c74",
   "metadata": {},
   "source": [
    "### 7.6.1 Single Performance"
   ]
  },
  {
   "cell_type": "code",
   "execution_count": 77,
   "id": "508602f3",
   "metadata": {},
   "outputs": [],
   "source": [
    "#modelling_result = pd.concat([baseline_result, lr_result, lrr_result, rf_result, xgb_result])\n",
    "#modelling_result.sort_values('RMSE')"
   ]
  },
  {
   "cell_type": "markdown",
   "id": "9fb3febf",
   "metadata": {},
   "source": [
    "### 7.6.2 Real Performance - Cross Validation"
   ]
  },
  {
   "cell_type": "code",
   "execution_count": 78,
   "id": "daaa8216",
   "metadata": {
    "scrolled": true
   },
   "outputs": [],
   "source": [
    "#modelling_result_cv = pd.concat([lr_result_cv, lrr_result_cv, rf_result_cv, xgb_result_cv])\n",
    "#modelling_result_cv.sort_values('RMSE CV')"
   ]
  },
  {
   "cell_type": "code",
   "execution_count": 79,
   "id": "504da5ef",
   "metadata": {},
   "outputs": [],
   "source": [
    "x_training = X_train[cols_selected_boruta_full]"
   ]
  },
  {
   "cell_type": "markdown",
   "id": "a65ff0f0",
   "metadata": {},
   "source": [
    "# 8.0 Hyperparameter Fine Tuning"
   ]
  },
  {
   "cell_type": "markdown",
   "id": "3c5b563c",
   "metadata": {},
   "source": [
    "## 8.1 Random Search"
   ]
  },
  {
   "cell_type": "code",
   "execution_count": 80,
   "id": "5b1a1655",
   "metadata": {},
   "outputs": [],
   "source": [
    "param = {\n",
    "    'n_estimators': [3500, 4000, 4500], \n",
    "    'eta': [0.01, 0.03], \n",
    "    'max_depth': [3, 5, 9], \n",
    "    'subsample': [0.1, 0.5, 0.7], \n",
    "    'colsample_bytree': [0.3, 0.7, 0.9], \n",
    "    'min_child_weight': [3, 8, 15]}\n",
    "\n",
    "MAX_EVAL = 5"
   ]
  },
  {
   "cell_type": "code",
   "execution_count": 81,
   "id": "5251b13a",
   "metadata": {},
   "outputs": [
    {
     "data": {
      "text/html": [
       "<div>\n",
       "<style scoped>\n",
       "    .dataframe tbody tr th:only-of-type {\n",
       "        vertical-align: middle;\n",
       "    }\n",
       "\n",
       "    .dataframe tbody tr th {\n",
       "        vertical-align: top;\n",
       "    }\n",
       "\n",
       "    .dataframe thead th {\n",
       "        text-align: right;\n",
       "    }\n",
       "</style>\n",
       "<table border=\"1\" class=\"dataframe\">\n",
       "  <thead>\n",
       "    <tr style=\"text-align: right;\">\n",
       "      <th></th>\n",
       "    </tr>\n",
       "  </thead>\n",
       "  <tbody>\n",
       "  </tbody>\n",
       "</table>\n",
       "</div>"
      ],
      "text/plain": [
       "Empty DataFrame\n",
       "Columns: []\n",
       "Index: []"
      ]
     },
     "execution_count": 81,
     "metadata": {},
     "output_type": "execute_result"
    }
   ],
   "source": [
    "final_result = pd.DataFrame()\n",
    "\n",
    "#for i in range(MAX_EVAL):\n",
    "#    # choose values for parameters randomly\n",
    "#    hp = {k: random.sample(v, 1)[0] for k, v in param.items()}\n",
    "#    print(hp)\n",
    "    \n",
    "    # model\n",
    "#    model_xgb = xgb.XGBRegressor(objective='reg:squarederror', \n",
    "#                                 n_estimators=hp['n_estimators'], \n",
    "#                                 eta=hp['eta'], \n",
    "#                                 max_depth=hp['max_depth'], \n",
    "#                                 subsample=hp['subsample'], \n",
    "#                                 colsample_bytree=hp['colsample_bytree'], \n",
    "#                                 min_child_weight=hp['min_child_weight'])\n",
    "\n",
    "\n",
    "\n",
    "    # performance\n",
    "#    result = cross_validation(x_training, 2, 'XGBoost Regressor', model_xgb, verbose=False)\n",
    "#    final_result = pd.concat([final_result, result])\n",
    "    \n",
    "final_result    "
   ]
  },
  {
   "cell_type": "markdown",
   "id": "0427b73e",
   "metadata": {},
   "source": [
    "## 8.2 Final Model"
   ]
  },
  {
   "cell_type": "code",
   "execution_count": 82,
   "id": "f267518e",
   "metadata": {},
   "outputs": [],
   "source": [
    "param_tuned = {\n",
    "    'n_estimators': 3500, \n",
    "    'eta': 0.01, \n",
    "    'max_depth': 9, \n",
    "    'subsample': 0.7, \n",
    "    'colsample_bytree': 0.3, \n",
    "    'min_child_weight': 8}\n"
   ]
  },
  {
   "cell_type": "code",
   "execution_count": 83,
   "id": "c3d50579",
   "metadata": {},
   "outputs": [],
   "source": [
    "# model\n",
    "model_xgb_tuned = xgb.XGBRegressor(objective='reg:squarederror', \n",
    "                             n_estimators=param_tuned['n_estimators'], \n",
    "                             eta=param_tuned['eta'], \n",
    "                             max_depth=param_tuned['max_depth'], \n",
    "                             subsample=param_tuned['subsample'], \n",
    "                             colsample_bytree=param_tuned['colsample_bytree'], \n",
    "                             min_child_weight=param_tuned['min_child_weight']).fit(x_train, Y_train)\n",
    "\n",
    "# prediction\n",
    "yhat_xgb_tuned = model_xgb_tuned.predict(x_test)\n",
    "\n",
    "\n",
    "# performance\n",
    "#xgb_result_tuned = ml_error('XGBoost Regressor', np.expm1(Y_test), np.expm1(yhat_xgb_tuned))\n",
    "#xgb_result_tuned"
   ]
  },
  {
   "cell_type": "code",
   "execution_count": 94,
   "id": "17844e3e",
   "metadata": {},
   "outputs": [
    {
     "data": {
      "text/html": [
       "<div>\n",
       "<style scoped>\n",
       "    .dataframe tbody tr th:only-of-type {\n",
       "        vertical-align: middle;\n",
       "    }\n",
       "\n",
       "    .dataframe tbody tr th {\n",
       "        vertical-align: top;\n",
       "    }\n",
       "\n",
       "    .dataframe thead th {\n",
       "        text-align: right;\n",
       "    }\n",
       "</style>\n",
       "<table border=\"1\" class=\"dataframe\">\n",
       "  <thead>\n",
       "    <tr style=\"text-align: right;\">\n",
       "      <th></th>\n",
       "      <th>model name</th>\n",
       "      <th>MAE</th>\n",
       "      <th>MAPE</th>\n",
       "      <th>RMSE</th>\n",
       "    </tr>\n",
       "  </thead>\n",
       "  <tbody>\n",
       "    <tr>\n",
       "      <th>0</th>\n",
       "      <td>XGBoost Regressor</td>\n",
       "      <td>662.909267</td>\n",
       "      <td>0.096567</td>\n",
       "      <td>955.231224</td>\n",
       "    </tr>\n",
       "  </tbody>\n",
       "</table>\n",
       "</div>"
      ],
      "text/plain": [
       "          model name         MAE      MAPE        RMSE\n",
       "0  XGBoost Regressor  662.909267  0.096567  955.231224"
      ]
     },
     "execution_count": 94,
     "metadata": {},
     "output_type": "execute_result"
    }
   ],
   "source": [
    "xgb_result_tuned = ml_error('XGBoost Regressor', np.expm1(Y_test), np.expm1(yhat_xgb_tuned))\n",
    "xgb_result_tuned"
   ]
  },
  {
   "cell_type": "markdown",
   "id": "67430b66",
   "metadata": {},
   "source": [
    "# 9.0 Traducao e Interpretacao do Erro"
   ]
  },
  {
   "cell_type": "code",
   "execution_count": 84,
   "id": "e29de788",
   "metadata": {},
   "outputs": [],
   "source": [
    "df9 = X_test[cols_selected_boruta_full]\n",
    "\n",
    "# rescale\n",
    "df9['sales'] = np.expm1(df9['sales'])\n",
    "df9['predictions'] = np.expm1(yhat_xgb_tuned)\n"
   ]
  },
  {
   "cell_type": "markdown",
   "id": "9b777f8f",
   "metadata": {},
   "source": [
    "## 9.1 Business Performance"
   ]
  },
  {
   "cell_type": "code",
   "execution_count": 85,
   "id": "56dd9cf4",
   "metadata": {},
   "outputs": [],
   "source": [
    "# Sum of predictions\n",
    "\n",
    "df91 = df9[['store', 'predictions']].groupby('store').sum().reset_index()\n",
    "\n",
    "# MAE and MAPE\n",
    "df9_aux1 = df9[['store', 'sales', 'predictions']].groupby('store').apply(lambda x: mean_absolute_error(x['sales'], x['predictions'])).reset_index().rename(columns={0: 'MAE'})\n",
    "df9_aux2 = df9[['store', 'sales', 'predictions']].groupby('store').apply(lambda x: mean_absolute_percentage_error(x['sales'], x['predictions'])).reset_index().rename(columns={0: 'MAPE'})\n",
    "\n",
    "# Merge\n",
    "df9_aux3 = pd.merge(df9_aux1, df9_aux2, how='inner', on='store')\n",
    "df92 = pd.merge(df91, df9_aux3, how='inner', on='store')\n",
    "\n",
    "# Scenarios\n",
    "df92['worst_scenario'] = df92['predictions'] - df92['MAE']\n",
    "df92['best_scenario'] = df92['predictions'] + df92['MAE']\n",
    "\n",
    "# order columns\n",
    "df92 = df92[['store', 'predictions', 'worst_scenario', 'best_scenario', 'MAE', 'MAPE']]\n"
   ]
  },
  {
   "cell_type": "code",
   "execution_count": 86,
   "id": "d7305014",
   "metadata": {},
   "outputs": [
    {
     "data": {
      "text/plain": [
       "<AxesSubplot:xlabel='store', ylabel='MAPE'>"
      ]
     },
     "execution_count": 86,
     "metadata": {},
     "output_type": "execute_result"
    },
    {
     "data": {
      "image/png": "[encoded data removed]",
      "text/plain": [
       "<Figure size 432x288 with 1 Axes>"
      ]
     },
     "metadata": {
      "needs_background": "light"
     },
     "output_type": "display_data"
    }
   ],
   "source": [
    "sns.scatterplot(x='store', y='MAPE', data=df92)"
   ]
  },
  {
   "cell_type": "code",
   "execution_count": 87,
   "id": "605e008e",
   "metadata": {},
   "outputs": [
    {
     "data": {
      "text/html": [
       "<div>\n",
       "<style scoped>\n",
       "    .dataframe tbody tr th:only-of-type {\n",
       "        vertical-align: middle;\n",
       "    }\n",
       "\n",
       "    .dataframe tbody tr th {\n",
       "        vertical-align: top;\n",
       "    }\n",
       "\n",
       "    .dataframe thead th {\n",
       "        text-align: right;\n",
       "    }\n",
       "</style>\n",
       "<table border=\"1\" class=\"dataframe\">\n",
       "  <thead>\n",
       "    <tr style=\"text-align: right;\">\n",
       "      <th></th>\n",
       "      <th>store</th>\n",
       "      <th>predictions</th>\n",
       "      <th>worst_scenario</th>\n",
       "      <th>best_scenario</th>\n",
       "      <th>MAE</th>\n",
       "      <th>MAPE</th>\n",
       "    </tr>\n",
       "  </thead>\n",
       "  <tbody>\n",
       "    <tr>\n",
       "      <th>0</th>\n",
       "      <td>1</td>\n",
       "      <td>160143.718750</td>\n",
       "      <td>159851.774038</td>\n",
       "      <td>160435.663462</td>\n",
       "      <td>291.944712</td>\n",
       "      <td>0.066684</td>\n",
       "    </tr>\n",
       "    <tr>\n",
       "      <th>1</th>\n",
       "      <td>2</td>\n",
       "      <td>183066.156250</td>\n",
       "      <td>182713.570055</td>\n",
       "      <td>183418.742445</td>\n",
       "      <td>352.586195</td>\n",
       "      <td>0.074740</td>\n",
       "    </tr>\n",
       "    <tr>\n",
       "      <th>2</th>\n",
       "      <td>3</td>\n",
       "      <td>264690.593750</td>\n",
       "      <td>264084.919546</td>\n",
       "      <td>265296.267954</td>\n",
       "      <td>605.674204</td>\n",
       "      <td>0.087392</td>\n",
       "    </tr>\n",
       "    <tr>\n",
       "      <th>3</th>\n",
       "      <td>4</td>\n",
       "      <td>332682.968750</td>\n",
       "      <td>331537.113400</td>\n",
       "      <td>333828.824100</td>\n",
       "      <td>1145.855350</td>\n",
       "      <td>0.110956</td>\n",
       "    </tr>\n",
       "    <tr>\n",
       "      <th>4</th>\n",
       "      <td>5</td>\n",
       "      <td>175205.359375</td>\n",
       "      <td>174752.991580</td>\n",
       "      <td>175657.727170</td>\n",
       "      <td>452.367795</td>\n",
       "      <td>0.103564</td>\n",
       "    </tr>\n",
       "  </tbody>\n",
       "</table>\n",
       "</div>"
      ],
      "text/plain": [
       "   store    predictions  worst_scenario  best_scenario          MAE      MAPE\n",
       "0      1  160143.718750   159851.774038  160435.663462   291.944712  0.066684\n",
       "1      2  183066.156250   182713.570055  183418.742445   352.586195  0.074740\n",
       "2      3  264690.593750   264084.919546  265296.267954   605.674204  0.087392\n",
       "3      4  332682.968750   331537.113400  333828.824100  1145.855350  0.110956\n",
       "4      5  175205.359375   174752.991580  175657.727170   452.367795  0.103564"
      ]
     },
     "execution_count": 87,
     "metadata": {},
     "output_type": "execute_result"
    }
   ],
   "source": [
    "df92.head()"
   ]
  },
  {
   "cell_type": "markdown",
   "id": "856e41b1",
   "metadata": {},
   "source": [
    "## 9.2 Total Performance"
   ]
  },
  {
   "cell_type": "code",
   "execution_count": 88,
   "id": "6c1de5d3",
   "metadata": {},
   "outputs": [
    {
     "data": {
      "text/html": [
       "<div>\n",
       "<style scoped>\n",
       "    .dataframe tbody tr th:only-of-type {\n",
       "        vertical-align: middle;\n",
       "    }\n",
       "\n",
       "    .dataframe tbody tr th {\n",
       "        vertical-align: top;\n",
       "    }\n",
       "\n",
       "    .dataframe thead th {\n",
       "        text-align: right;\n",
       "    }\n",
       "</style>\n",
       "<table border=\"1\" class=\"dataframe\">\n",
       "  <thead>\n",
       "    <tr style=\"text-align: right;\">\n",
       "      <th></th>\n",
       "      <th>Scenarios</th>\n",
       "      <th>Values</th>\n",
       "    </tr>\n",
       "  </thead>\n",
       "  <tbody>\n",
       "    <tr>\n",
       "      <th>0</th>\n",
       "      <td>predictions</td>\n",
       "      <td>R$284,665,312.00</td>\n",
       "    </tr>\n",
       "    <tr>\n",
       "      <th>1</th>\n",
       "      <td>best_scenario</td>\n",
       "      <td>R$285,408,489.35</td>\n",
       "    </tr>\n",
       "    <tr>\n",
       "      <th>2</th>\n",
       "      <td>worst_scenario</td>\n",
       "      <td>R$283,922,136.51</td>\n",
       "    </tr>\n",
       "  </tbody>\n",
       "</table>\n",
       "</div>"
      ],
      "text/plain": [
       "        Scenarios            Values\n",
       "0     predictions  R$284,665,312.00\n",
       "1   best_scenario  R$285,408,489.35\n",
       "2  worst_scenario  R$283,922,136.51"
      ]
     },
     "execution_count": 88,
     "metadata": {},
     "output_type": "execute_result"
    }
   ],
   "source": [
    "df93 = df92[['predictions', 'best_scenario', 'worst_scenario']].apply(lambda x: np.sum(x), axis=0).reset_index().rename(columns={'index': 'Scenarios', 0: 'Values'})\n",
    "df93['Values'] = df93['Values'].map('R${:,.2f}'.format)\n",
    "df93"
   ]
  },
  {
   "cell_type": "markdown",
   "id": "18a94fa3",
   "metadata": {},
   "source": [
    "## 9.3 Machine Learning Performance"
   ]
  },
  {
   "cell_type": "code",
   "execution_count": 89,
   "id": "5a0127a1",
   "metadata": {},
   "outputs": [],
   "source": [
    "df9['error'] = df9['sales'] - df9['predictions']\n",
    "df9['error_rate'] = df9['predictions'] / df9['sales']\n",
    "\n"
   ]
  },
  {
   "cell_type": "code",
   "execution_count": 90,
   "id": "caf28888",
   "metadata": {},
   "outputs": [
    {
     "data": {
      "text/plain": [
       "<AxesSubplot:xlabel='predictions', ylabel='error'>"
      ]
     },
     "execution_count": 90,
     "metadata": {},
     "output_type": "execute_result"
    },
    {
     "data": {
      "image/png": "[encoded data removed]",
      "text/plain": [
       "<Figure size 432x288 with 4 Axes>"
      ]
     },
     "metadata": {
      "needs_background": "light"
     },
     "output_type": "display_data"
    }
   ],
   "source": [
    "plt.subplot(2, 2, 1)\n",
    "sns.lineplot(x='date', y='sales', data=df9, label='SALES')\n",
    "sns.lineplot(x='date', y='predictions', data=df9, label='PREDICTIONS')\n",
    "\n",
    "plt.subplot(2, 2, 2)\n",
    "sns.lineplot(x='date', y='error_rate', data=df9)\n",
    "\n",
    "plt.subplot(2, 2, 3)\n",
    "sns.distplot(df9['error'])\n",
    "\n",
    "plt.subplot(2, 2, 4)\n",
    "sns.scatterplot(df9['predictions'],df9['error'])"
   ]
  },
  {
   "cell_type": "markdown",
   "id": "25b32c99",
   "metadata": {},
   "source": [
    "# 10.0 Deploy Model to Production"
   ]
  },
  {
   "cell_type": "code",
   "execution_count": 91,
   "id": "6990de15",
   "metadata": {},
   "outputs": [],
   "source": [
    "# Save trained model\n",
    "pickle.dump(model_xgb_tuned, open(r'C:\\Users\\jota_\\Repositorios\\DS_producao\\model_rossmann_final3.pkl', 'wb'))\n",
    "\n"
   ]
  },
  {
   "cell_type": "markdown",
   "id": "fe3d395f",
   "metadata": {},
   "source": [
    "## 10.1 Rosmann Class"
   ]
  },
  {
   "cell_type": "code",
   "execution_count": 92,
   "id": "154e9f8b",
   "metadata": {},
   "outputs": [],
   "source": [
    "import pandas as pd\n",
    "import numpy as np\n",
    "import math\n",
    "import datetime as dtt\n",
    "import pickle\n",
    "import inflection\n",
    "\n",
    "class Rossmann(object):\n",
    "    def __init__(self):\n",
    "        self.home_path = '/Users/jota_/Repositorios/DS_producao/'\n",
    "        self.competition_distance_scaler = pickle.load(open(self.home_path + 'parameter/competition_distance_scaler.pkl', 'rb'))\n",
    "        self.competition_time_month_scaler = pickle.load(open(self.home_path + 'parameter/competition_time_month_scaler.pkl', 'rb'))\n",
    "        self.promo_time_week_scaler = pickle.load(open(self.home_path + 'parameter/promo_time_week_scaler.pkl', 'rb'))\n",
    "        self.year_scaler = pickle.load(open(self.home_path + 'parameter/year_scaler.pkl', 'rb'))\n",
    "        self.store_type_scaler = pickle.load(open(self.home_path + 'parameter/store_type_scaler.pkl', 'rb'))\n",
    "\n",
    "      \n",
    "    def data_cleaning(self, df1):\n",
    "        cols_old = ['Store', 'DayOfWeek', 'Date', 'Open', 'Promo', 'StateHoliday', 'SchoolHoliday', \n",
    "            'StoreType', 'Assortment', 'CompetitionDistance', 'CompetitionOpenSinceMonth', 'CompetitionOpenSinceYear', \n",
    "            'Promo2', 'Promo2SinceWeek','Promo2SinceYear', 'PromoInterval']\n",
    "        \n",
    "        snakecase = lambda x: inflection.underscore(x)\n",
    "\n",
    "        cols_new = list(map(snakecase, cols_old))\n",
    "\n",
    "        #Rename\n",
    "        df1.columns = cols_new\n",
    "\n",
    "        df1['date'] = pd.to_datetime(df1['date'])\n",
    "\n",
    "        #competition_distance             \n",
    "        df1['competition_distance'] = df1['competition_distance'].apply(lambda x: 200000.0 if math.isnan(x) else x)\n",
    "\n",
    "        #competition_open_since_month    \n",
    "\n",
    "        df1['competition_open_since_month'] = df1.apply(lambda x: x['date'].month if math.isnan(x['competition_open_since_month']) \n",
    "                                                        else x['competition_open_since_month'], axis=1) \n",
    "\n",
    "        #competition_open_since_year     \n",
    "\n",
    "        df1['competition_open_since_year'] = df1.apply(lambda x: x['date'].year if math.isnan(x['competition_open_since_year']) \n",
    "                                                        else x['competition_open_since_year'], axis=1) \n",
    "\n",
    "        #promo2_since_week    \n",
    "        df1['promo2_since_week'] = df1.apply(lambda x: x['date'].week if math.isnan(x['promo2_since_week']) \n",
    "                                                        else x['promo2_since_week'], axis=1)\n",
    "\n",
    "        #promo2_since_year               \n",
    "        df1['promo2_since_year'] = df1.apply(lambda x: x['date'].year if math.isnan(x['promo2_since_year']) \n",
    "                                                        else x['promo2_since_year'], axis=1)\n",
    "\n",
    "        #promo_interval\n",
    "        df1['promo_interval'].fillna(0, inplace=True)\n",
    "\n",
    "        month_map = {1: 'Jan', 2: 'Fev', 3: 'Mar', 4: 'Apr', 5: 'May', 6: 'Jun', \n",
    "                     7: 'Jul', 8: 'Aug', 9: 'Sep', 10: 'Oct', 11: 'Nov', 12: 'Dec'}\n",
    "\n",
    "        df1['month_map'] = df1['date'].dt.month.map(month_map)\n",
    "\n",
    "        df1['is_promo'] = df1[['promo_interval', 'month_map']].apply(\n",
    "            lambda x: 0 if x['promo_interval'] == 0 else 1 if x['month_map'] in x['promo_interval'].split(',') else 0, axis=1)\n",
    "        \n",
    "        return df1\n",
    "    \n",
    "    def feature_engineering(self, df2):\n",
    "        # year\n",
    "        df2['year'] = df2['date'].dt.year\n",
    "\n",
    "        # month\n",
    "        df2['month'] = df2['date'].dt.month\n",
    "\n",
    "        # day\n",
    "        df2['day'] = df2['date'].dt.day\n",
    "\n",
    "        # week of year\n",
    "        df2['week_of_year'] = df2['date'].dt.isocalendar().week\n",
    "\n",
    "        # year week\n",
    "        df2['year_week'] = df2['date'].dt.strftime('%Y-%W')\n",
    "\n",
    "\n",
    "        # competition since\n",
    "        df2['competition_since'] = df2.apply(lambda x: dtt.datetime(year=x['competition_open_since_year'],\n",
    "                                                                         month=x['competition_open_since_month'],\n",
    "                                                                         day=1), axis=1)\n",
    "        df2['competition_time_month'] = ((df2['date'] - df2['competition_since'])/30).apply(lambda x: x.days).astype('int64')\n",
    "\n",
    "        # promo since\n",
    "        df2['promo_since'] = df2['promo2_since_year'].astype(str) + '-' + df2['promo2_since_week'].astype(str)\n",
    "\n",
    "        df2['promo_since'] = df2['promo_since'].apply(\n",
    "            lambda x: dtt.datetime.strptime(x + '-1', '%Y-%W-%w') - dtt.timedelta(days = 7))\n",
    "\n",
    "        df2['promo_time_week'] = ((df2['date'] - df2['promo_since'])/7).apply(lambda x: x.days).astype('int64')\n",
    "\n",
    "\n",
    "        # assortment\n",
    "        df2['assortment'] = df2['assortment'].apply(lambda x: 'basic' if x == 'a' else 'extra' if x == 'b' else 'extended')\n",
    "\n",
    "\n",
    "        # state holiday\n",
    "        df2['state_holiday'] = df2['state_holiday'].apply(\n",
    "            lambda x: 'public_holiday' if x == 'a' else 'easter' if x == 'b' else 'christmas' if x == 'c' else 'regular_day')\n",
    "        \n",
    "        df2 = df2[df2['open'] != 0]\n",
    "        \n",
    "        cols_drop = ['open', 'promo_interval', 'month_map']\n",
    "        df2 = df2.drop(cols_drop, axis=1)\n",
    "        \n",
    "        return df2\n",
    "    \n",
    "    def data_preparation(self, df5):\n",
    "        \n",
    "        #competition distance\n",
    "        df5['competition_distance'] = self.competition_distance_scaler.fit_transform(df5[['competition_distance']].values)\n",
    "\n",
    "        # year\n",
    "        df5['year'] = self.year_scaler.fit_transform(df5[['year']].values)\n",
    "\n",
    "        # competition time month\n",
    "        df5['competition_time_month'] = self.competition_time_month_scaler.fit_transform(df5[['competition_time_month']].values)\n",
    "\n",
    "        # promo time week\n",
    "        df5['promo_time_week'] = self.promo_time_week_scaler.fit_transform(df5[['promo_time_week']].values)\n",
    "        \n",
    "        # state_holiday - one hot encoding\n",
    "        df5 = pd.get_dummies(df5, prefix=['state_holiday'], columns=['state_holiday'])\n",
    "        \n",
    "        # store_type - Label encoding\n",
    "        df5['store_type'] = self.store_type_scaler.fit_transform(df5['store_type'])\n",
    "\n",
    "        #assortment - ordinal encoding\n",
    "        assortment_dict = {'basic': 1,\n",
    "                         'extended': 3, \n",
    "                         'extra': 2}\n",
    "        df5['assortment'] = df5['assortment'].map(assortment_dict)\n",
    "\n",
    "        # month\n",
    "        df5['month_sin'] = df5['month'].apply(lambda x: np.sin( x * ( 2 * np.pi/12 )))\n",
    "        df5['month_cos'] = df5['month'].apply(lambda x: np.cos( x * ( 2 * np.pi/12 )))\n",
    "\n",
    "        # day\n",
    "        df5['day_sin'] = df5['day'].apply(lambda x: np.sin( x * ( 2 * np.pi/30 )))\n",
    "        df5['day_cos'] = df5['day'].apply(lambda x: np.cos( x * ( 2 * np.pi/30 )))\n",
    "\n",
    "        # week of year\n",
    "        df5['week_of_year_sin'] = df5['week_of_year'].apply(lambda x: np.sin( x * ( 2 * np.pi/52 )))\n",
    "        df5['week_of_year_cos'] = df5['week_of_year'].apply(lambda x: np.cos( x * ( 2 * np.pi/52 )))\n",
    "\n",
    "        # day of week\n",
    "        df5['day_of_week_sin'] = df5['day_of_week'].apply(lambda x: np.sin( x * ( 2 * np.pi/7 )))\n",
    "        df5['day_of_week_cos'] = df5['day_of_week'].apply(lambda x: np.cos( x * ( 2 * np.pi/7 )))\n",
    "        \n",
    "        cols_selected = [\n",
    "             'store',\n",
    "             'promo',\n",
    "             'store_type',\n",
    "             'assortment',\n",
    "             'competition_distance',\n",
    "             'competition_open_since_month',\n",
    "             'competition_open_since_year',\n",
    "             'promo2',\n",
    "             'promo2_since_week',\n",
    "             'promo2_since_year',\n",
    "             'competition_time_month',\n",
    "             'promo_time_week',\n",
    "             'month_cos',\n",
    "             'month_sin',\n",
    "             'day_sin',\n",
    "             'day_cos',\n",
    "             'week_of_year_cos',\n",
    "             'week_of_year_sin',\n",
    "             'day_of_week_sin',\n",
    "             'day_of_week_cos']\n",
    "        \n",
    "        return df5[cols_selected]\n",
    "    \n",
    "    def get_prediction(self, model, original_data, test_data):\n",
    "        #prediction\n",
    "        pred = model.predict(test_data)\n",
    "        \n",
    "        #join pred into the original data\n",
    "        original_data['prediction'] = np.expm1(pred)\n",
    "        \n",
    "        return original_data.to_json(orient = 'records', date_format='iso')\n",
    "    \n",
    "    \n",
    "    \n",
    "  \n",
    "\n"
   ]
  },
  {
   "cell_type": "markdown",
   "id": "1307a5ed",
   "metadata": {},
   "source": [
    "## 10.2 API Handler"
   ]
  },
  {
   "cell_type": "code",
   "execution_count": 93,
   "id": "eaaac850",
   "metadata": {},
   "outputs": [
    {
     "ename": "ModuleNotFoundError",
     "evalue": "No module named 'flask'",
     "output_type": "error",
     "traceback": [
      "\u001b[1;31m---------------------------------------------------------------------------\u001b[0m",
      "\u001b[1;31mModuleNotFoundError\u001b[0m                       Traceback (most recent call last)",
      "\u001b[1;32m~\\AppData\\Local\\Temp/ipykernel_13756/2363672637.py\u001b[0m in \u001b[0;36m<module>\u001b[1;34m\u001b[0m\n\u001b[1;32m----> 1\u001b[1;33m \u001b[1;32mfrom\u001b[0m \u001b[0mflask\u001b[0m \u001b[1;32mimport\u001b[0m \u001b[0mFlask\u001b[0m\u001b[1;33m,\u001b[0m \u001b[0mrequest\u001b[0m\u001b[1;33m,\u001b[0m \u001b[0mResponse\u001b[0m\u001b[1;33m\u001b[0m\u001b[1;33m\u001b[0m\u001b[0m\n\u001b[0m\u001b[0;32m      2\u001b[0m \u001b[1;32mfrom\u001b[0m \u001b[0mrossmann\u001b[0m\u001b[1;33m.\u001b[0m\u001b[0mRossmann\u001b[0m \u001b[1;32mimport\u001b[0m \u001b[0mRossmann\u001b[0m\u001b[1;33m\u001b[0m\u001b[1;33m\u001b[0m\u001b[0m\n\u001b[0;32m      3\u001b[0m \u001b[1;33m\u001b[0m\u001b[0m\n\u001b[0;32m      4\u001b[0m \u001b[1;31m# loading model\u001b[0m\u001b[1;33m\u001b[0m\u001b[1;33m\u001b[0m\u001b[1;33m\u001b[0m\u001b[0m\n\u001b[0;32m      5\u001b[0m \u001b[0mmodel\u001b[0m \u001b[1;33m=\u001b[0m \u001b[0mpickle\u001b[0m\u001b[1;33m.\u001b[0m\u001b[0mload\u001b[0m\u001b[1;33m(\u001b[0m\u001b[0mopen\u001b[0m\u001b[1;33m(\u001b[0m\u001b[1;34m'/Users/jota_/Repositorios/DS_producao/model_rossmann_final2.pkl'\u001b[0m\u001b[1;33m,\u001b[0m \u001b[1;34m'rb'\u001b[0m\u001b[1;33m)\u001b[0m\u001b[1;33m)\u001b[0m\u001b[1;33m\u001b[0m\u001b[1;33m\u001b[0m\u001b[0m\n",
      "\u001b[1;31mModuleNotFoundError\u001b[0m: No module named 'flask'"
     ]
    }
   ],
   "source": [
    "from flask import Flask, request, Response\n",
    "from rossmann.Rossmann import Rossmann\n",
    "\n",
    "# loading model\n",
    "model = pickle.load(open('/Users/jota_/Repositorios/DS_producao/model_rossmann_final2.pkl', 'rb'))\n",
    "\n",
    "# initialize api\n",
    "app = Flask( __name__ )\n",
    "\n",
    "@app.route('/rossmann/predict', methods=['POST'])\n",
    "def rossmann_predict():\n",
    "    test_json = request.get_json()\n",
    "    \n",
    "    if test_json:\n",
    "        \n",
    "        if isinstance(test_json, dict): #unique exmple\n",
    "            test_raw = pd.DataFrame(test_json, index=[0])\n",
    "        else: # multiple examples\n",
    "            test_raw = pd.DataFrame(test_json, columns=test_json[0].keys())\n",
    "            \n",
    "        #instantiate rossmann class\n",
    "        pipeline = Rossmann()\n",
    "        \n",
    "        # data cleaning\n",
    "        df1 = pipeline.data_cleaning(test_raw)\n",
    "        \n",
    "        # feature engineering\n",
    "        df2 = pipeline.feature_engineering(df1)\n",
    "        \n",
    "        # data preparation\n",
    "        df3 = pipeline.data_preparation(df2)\n",
    "        \n",
    "        # prediction\n",
    "        df_response = pipeline.get_prediction(model, test_raw, df3)\n",
    "        \n",
    "        return df_response\n",
    "        \n",
    "        \n",
    "    else:\n",
    "        return Response('{}', status=200, mimetype='application/json')\n",
    "\n",
    "if __name__ == '__main__':\n",
    "    app.run('0.0.0.0')"
   ]
  },
  {
   "cell_type": "markdown",
   "id": "2cddec7e",
   "metadata": {},
   "source": [
    "## 10.3 API Tester "
   ]
  },
  {
   "cell_type": "code",
   "execution_count": 16,
   "id": "c4bd25ea",
   "metadata": {},
   "outputs": [],
   "source": [
    "#load test dataset\n",
    "df10 = pd.read_csv(r'C:\\Users\\jota_\\Repositorios\\DS_producao\\Datasets_ds\\test.csv')"
   ]
  },
  {
   "cell_type": "code",
   "execution_count": 17,
   "id": "593f76d6",
   "metadata": {},
   "outputs": [],
   "source": [
    "# merge test dataset + store\n",
    "df_test = pd.merge(df10, df_store_raw, how='left', on='Store')\n",
    "\n",
    "# choose store for prediction \n",
    "df_test = df_test[df_test['Store'].isin([12, 22, 24])]\n",
    "# remove closed days\n",
    "df_test = df_test[df_test['Open'] != 0]\n",
    "df_test = df_test[~df_test['Open'].isnull()]\n",
    "df_test = df_test.drop('Id', axis=1)"
   ]
  },
  {
   "cell_type": "code",
   "execution_count": 18,
   "id": "4118b508",
   "metadata": {},
   "outputs": [],
   "source": [
    "#convert dataframe to json\n",
    "data = json.dumps(df_test.to_dict(orient='records'))\n"
   ]
  },
  {
   "cell_type": "code",
   "execution_count": 19,
   "id": "bfec3923",
   "metadata": {},
   "outputs": [
    {
     "name": "stdout",
     "output_type": "stream",
     "text": [
      "Status Code 200\n"
     ]
    }
   ],
   "source": [
    "# API call\n",
    "#url = r'http://localhost:5000/rossmann/predict'\n",
    "#https://rossmann-model1-test.herokuapp.com essa parte foi copiada e colada do heroku no git bash\n",
    "#/rossmann/predict esse é o endpoint que tem que por\n",
    "url = 'https://rossmann-bot-api-nhnc.onrender.com/rossmann/predict'\n",
    "header = {'Content-type': 'application/json'}\n",
    "data = data\n",
    "\n",
    "r = requests.post(url, data=data, headers=header)\n",
    "print('Status Code {}'.format(r.status_code))"
   ]
  },
  {
   "cell_type": "code",
   "execution_count": 20,
   "id": "f8700bd1",
   "metadata": {},
   "outputs": [],
   "source": [
    "d1 = pd.DataFrame(r.json(),columns = r.json()[0].keys())"
   ]
  },
  {
   "cell_type": "code",
   "execution_count": 21,
   "id": "79c2daf3",
   "metadata": {},
   "outputs": [
    {
     "data": {
      "text/html": [
       "<div>\n",
       "<style scoped>\n",
       "    .dataframe tbody tr th:only-of-type {\n",
       "        vertical-align: middle;\n",
       "    }\n",
       "\n",
       "    .dataframe tbody tr th {\n",
       "        vertical-align: top;\n",
       "    }\n",
       "\n",
       "    .dataframe thead th {\n",
       "        text-align: right;\n",
       "    }\n",
       "</style>\n",
       "<table border=\"1\" class=\"dataframe\">\n",
       "  <thead>\n",
       "    <tr style=\"text-align: right;\">\n",
       "      <th></th>\n",
       "      <th>store</th>\n",
       "      <th>day_of_week</th>\n",
       "      <th>date</th>\n",
       "      <th>open</th>\n",
       "      <th>promo</th>\n",
       "      <th>state_holiday</th>\n",
       "      <th>school_holiday</th>\n",
       "      <th>store_type</th>\n",
       "      <th>assortment</th>\n",
       "      <th>competition_distance</th>\n",
       "      <th>...</th>\n",
       "      <th>year</th>\n",
       "      <th>month</th>\n",
       "      <th>day</th>\n",
       "      <th>week_of_year</th>\n",
       "      <th>year_week</th>\n",
       "      <th>competition_since</th>\n",
       "      <th>competition_time_month</th>\n",
       "      <th>promo_since</th>\n",
       "      <th>promo_time_week</th>\n",
       "      <th>prediction</th>\n",
       "    </tr>\n",
       "  </thead>\n",
       "  <tbody>\n",
       "    <tr>\n",
       "      <th>0</th>\n",
       "      <td>12</td>\n",
       "      <td>4</td>\n",
       "      <td>2015-09-17T00:00:00.000Z</td>\n",
       "      <td>1.0</td>\n",
       "      <td>1</td>\n",
       "      <td>regular_day</td>\n",
       "      <td>0</td>\n",
       "      <td>a</td>\n",
       "      <td>extended</td>\n",
       "      <td>1070.0</td>\n",
       "      <td>...</td>\n",
       "      <td>2015</td>\n",
       "      <td>9</td>\n",
       "      <td>17</td>\n",
       "      <td>38</td>\n",
       "      <td>2015-37</td>\n",
       "      <td>2015-09-01T00:00:00.000Z</td>\n",
       "      <td>0</td>\n",
       "      <td>2010-03-22T00:00:00.000Z</td>\n",
       "      <td>286</td>\n",
       "      <td>5859.890625</td>\n",
       "    </tr>\n",
       "    <tr>\n",
       "      <th>1</th>\n",
       "      <td>22</td>\n",
       "      <td>4</td>\n",
       "      <td>2015-09-17T00:00:00.000Z</td>\n",
       "      <td>1.0</td>\n",
       "      <td>1</td>\n",
       "      <td>regular_day</td>\n",
       "      <td>0</td>\n",
       "      <td>a</td>\n",
       "      <td>basic</td>\n",
       "      <td>1040.0</td>\n",
       "      <td>...</td>\n",
       "      <td>2015</td>\n",
       "      <td>9</td>\n",
       "      <td>17</td>\n",
       "      <td>38</td>\n",
       "      <td>2015-37</td>\n",
       "      <td>2015-09-01T00:00:00.000Z</td>\n",
       "      <td>0</td>\n",
       "      <td>2012-05-21T00:00:00.000Z</td>\n",
       "      <td>173</td>\n",
       "      <td>5232.495605</td>\n",
       "    </tr>\n",
       "    <tr>\n",
       "      <th>2</th>\n",
       "      <td>24</td>\n",
       "      <td>4</td>\n",
       "      <td>2015-09-17T00:00:00.000Z</td>\n",
       "      <td>1.0</td>\n",
       "      <td>1</td>\n",
       "      <td>regular_day</td>\n",
       "      <td>0</td>\n",
       "      <td>a</td>\n",
       "      <td>extended</td>\n",
       "      <td>4590.0</td>\n",
       "      <td>...</td>\n",
       "      <td>2015</td>\n",
       "      <td>9</td>\n",
       "      <td>17</td>\n",
       "      <td>38</td>\n",
       "      <td>2015-37</td>\n",
       "      <td>2000-03-01T00:00:00.000Z</td>\n",
       "      <td>189</td>\n",
       "      <td>2011-09-26T00:00:00.000Z</td>\n",
       "      <td>207</td>\n",
       "      <td>7113.018066</td>\n",
       "    </tr>\n",
       "    <tr>\n",
       "      <th>3</th>\n",
       "      <td>12</td>\n",
       "      <td>3</td>\n",
       "      <td>2015-09-16T00:00:00.000Z</td>\n",
       "      <td>1.0</td>\n",
       "      <td>1</td>\n",
       "      <td>regular_day</td>\n",
       "      <td>0</td>\n",
       "      <td>a</td>\n",
       "      <td>extended</td>\n",
       "      <td>1070.0</td>\n",
       "      <td>...</td>\n",
       "      <td>2015</td>\n",
       "      <td>9</td>\n",
       "      <td>16</td>\n",
       "      <td>38</td>\n",
       "      <td>2015-37</td>\n",
       "      <td>2015-09-01T00:00:00.000Z</td>\n",
       "      <td>0</td>\n",
       "      <td>2010-03-22T00:00:00.000Z</td>\n",
       "      <td>286</td>\n",
       "      <td>5887.426758</td>\n",
       "    </tr>\n",
       "    <tr>\n",
       "      <th>4</th>\n",
       "      <td>22</td>\n",
       "      <td>3</td>\n",
       "      <td>2015-09-16T00:00:00.000Z</td>\n",
       "      <td>1.0</td>\n",
       "      <td>1</td>\n",
       "      <td>regular_day</td>\n",
       "      <td>0</td>\n",
       "      <td>a</td>\n",
       "      <td>basic</td>\n",
       "      <td>1040.0</td>\n",
       "      <td>...</td>\n",
       "      <td>2015</td>\n",
       "      <td>9</td>\n",
       "      <td>16</td>\n",
       "      <td>38</td>\n",
       "      <td>2015-37</td>\n",
       "      <td>2015-09-01T00:00:00.000Z</td>\n",
       "      <td>0</td>\n",
       "      <td>2012-05-21T00:00:00.000Z</td>\n",
       "      <td>173</td>\n",
       "      <td>5264.440918</td>\n",
       "    </tr>\n",
       "  </tbody>\n",
       "</table>\n",
       "<p>5 rows × 28 columns</p>\n",
       "</div>"
      ],
      "text/plain": [
       "   store  day_of_week                      date  open  promo state_holiday  \\\n",
       "0     12            4  2015-09-17T00:00:00.000Z   1.0      1   regular_day   \n",
       "1     22            4  2015-09-17T00:00:00.000Z   1.0      1   regular_day   \n",
       "2     24            4  2015-09-17T00:00:00.000Z   1.0      1   regular_day   \n",
       "3     12            3  2015-09-16T00:00:00.000Z   1.0      1   regular_day   \n",
       "4     22            3  2015-09-16T00:00:00.000Z   1.0      1   regular_day   \n",
       "\n",
       "   school_holiday store_type assortment  competition_distance  ...  year  \\\n",
       "0               0          a   extended                1070.0  ...  2015   \n",
       "1               0          a      basic                1040.0  ...  2015   \n",
       "2               0          a   extended                4590.0  ...  2015   \n",
       "3               0          a   extended                1070.0  ...  2015   \n",
       "4               0          a      basic                1040.0  ...  2015   \n",
       "\n",
       "   month  day  week_of_year  year_week         competition_since  \\\n",
       "0      9   17            38    2015-37  2015-09-01T00:00:00.000Z   \n",
       "1      9   17            38    2015-37  2015-09-01T00:00:00.000Z   \n",
       "2      9   17            38    2015-37  2000-03-01T00:00:00.000Z   \n",
       "3      9   16            38    2015-37  2015-09-01T00:00:00.000Z   \n",
       "4      9   16            38    2015-37  2015-09-01T00:00:00.000Z   \n",
       "\n",
       "  competition_time_month               promo_since  promo_time_week  \\\n",
       "0                      0  2010-03-22T00:00:00.000Z              286   \n",
       "1                      0  2012-05-21T00:00:00.000Z              173   \n",
       "2                    189  2011-09-26T00:00:00.000Z              207   \n",
       "3                      0  2010-03-22T00:00:00.000Z              286   \n",
       "4                      0  2012-05-21T00:00:00.000Z              173   \n",
       "\n",
       "    prediction  \n",
       "0  5859.890625  \n",
       "1  5232.495605  \n",
       "2  7113.018066  \n",
       "3  5887.426758  \n",
       "4  5264.440918  \n",
       "\n",
       "[5 rows x 28 columns]"
      ]
     },
     "execution_count": 21,
     "metadata": {},
     "output_type": "execute_result"
    }
   ],
   "source": [
    "d1.head()"
   ]
  },
  {
   "cell_type": "code",
   "execution_count": 22,
   "id": "c3e7f193",
   "metadata": {},
   "outputs": [
    {
     "name": "stdout",
     "output_type": "stream",
     "text": [
      "Store Number 12 will sell R$224,511.73 in the next 6 weeks\n",
      "Store Number 22 will sell R$201,874.37 in the next 6 weeks\n",
      "Store Number 24 will sell R$284,107.18 in the next 6 weeks\n"
     ]
    }
   ],
   "source": [
    "d2 =d1[['store', 'prediction']].groupby('store').sum().reset_index()\n",
    "\n",
    "for i in range(len(d2)):\n",
    "    print('Store Number {} will sell R${:,.2f} in the next 6 weeks'.format(\n",
    "    d2.loc[i, 'store'],\n",
    "    d2.loc[i, 'prediction']))"
   ]
  },
  {
   "cell_type": "code",
   "execution_count": null,
   "id": "e4cdf68b",
   "metadata": {},
   "outputs": [],
   "source": [
    "d2"
   ]
  },
  {
   "cell_type": "code",
   "execution_count": null,
   "id": "d11a6fd1",
   "metadata": {},
   "outputs": [],
   "source": []
  },
  {
   "cell_type": "code",
   "execution_count": null,
   "id": "ddfa9aee",
   "metadata": {},
   "outputs": [],
   "source": []
  }
 ],
 "metadata": {
  "kernelspec": {
   "display_name": "Python 3",
   "language": "python",
   "name": "python3"
  },
  "language_info": {
   "codemirror_mode": {
    "name": "ipython",
    "version": 3
   },
   "file_extension": ".py",
   "mimetype": "text/x-python",
   "name": "python",
   "nbconvert_exporter": "python",
   "pygments_lexer": "ipython3",
   "version": "3.8.8"
  }
 },
 "nbformat": 4,
 "nbformat_minor": 5
}
